{
 "cells": [
  {
   "cell_type": "markdown",
   "metadata": {},
   "source": [
    "# The Rise and Fall of the Third Reich\n",
    "# A History of Nazi Germany \n",
    "# by William L. Shirer\n",
    "## A Textual Analysis"
   ]
  },
  {
   "cell_type": "markdown",
   "metadata": {},
   "source": [
    "Read in file."
   ]
  },
  {
   "cell_type": "code",
   "execution_count": 303,
   "metadata": {
    "collapsed": false
   },
   "outputs": [
    {
     "name": "stdout",
     "output_type": "stream",
     "text": [
      "Starting\n",
      "Book processed\n",
      "TOC processed\n",
      "Chapter Markers made\n",
      "Pivots processed\n"
     ]
    }
   ],
   "source": [
    "import pandas as pd\n",
    "import book_reader as br\n",
    "import book_viz as bv\n",
    "import numpy as np\n",
    "import json\n",
    "import os\n",
    "from IPython.display import display\n",
    "rafo3r_text = open('rafo3r.txt', 'r', encoding='utf-8').read()\n",
    "generate_book_df = False\n",
    "generate_toc_df = False\n",
    "generate_pivots = False\n",
    "rafo3r_reader = br.book_reader('rafo3r', generate_book_df, generate_toc_df, generate_pivots)\n",
    "book_file = 'rafo3r.txt'\n",
    "h5_file = 'rafo3r.h5'\n",
    "rafo3r, toc, book_pivot1, book_pivot2 = rafo3r_reader.main(book_file, h5_file)"
   ]
  },
  {
   "cell_type": "code",
   "execution_count": 87,
   "metadata": {
    "collapsed": true
   },
   "outputs": [],
   "source": [
    "import plotly.plotly as py\n",
    "import plotly.graph_objs as go\n",
    "py.sign_in('yg2bsm', '8e3m3cer5e')"
   ]
  },
  {
   "cell_type": "code",
   "execution_count": 93,
   "metadata": {
    "collapsed": false
   },
   "outputs": [
    {
     "data": {
      "text/html": [
       "<div>\n",
       "<table border=\"1\" class=\"dataframe\">\n",
       "  <thead>\n",
       "    <tr style=\"text-align: right;\">\n",
       "      <th></th>\n",
       "      <th>Word</th>\n",
       "      <th>Stop Word</th>\n",
       "      <th>Count</th>\n",
       "      <th>Running Count</th>\n",
       "      <th>Position</th>\n",
       "    </tr>\n",
       "  </thead>\n",
       "  <tbody>\n",
       "    <tr>\n",
       "      <th>0</th>\n",
       "      <td>william</td>\n",
       "      <td>False</td>\n",
       "      <td>12</td>\n",
       "      <td>1</td>\n",
       "      <td>0</td>\n",
       "    </tr>\n",
       "    <tr>\n",
       "      <th>1</th>\n",
       "      <td>l</td>\n",
       "      <td>True</td>\n",
       "      <td>0</td>\n",
       "      <td>0</td>\n",
       "      <td>1</td>\n",
       "    </tr>\n",
       "    <tr>\n",
       "      <th>2</th>\n",
       "      <td>shirer</td>\n",
       "      <td>False</td>\n",
       "      <td>5</td>\n",
       "      <td>1</td>\n",
       "      <td>2</td>\n",
       "    </tr>\n",
       "    <tr>\n",
       "      <th>3</th>\n",
       "      <td>the</td>\n",
       "      <td>True</td>\n",
       "      <td>0</td>\n",
       "      <td>0</td>\n",
       "      <td>3</td>\n",
       "    </tr>\n",
       "    <tr>\n",
       "      <th>4</th>\n",
       "      <td>rise</td>\n",
       "      <td>False</td>\n",
       "      <td>48</td>\n",
       "      <td>1</td>\n",
       "      <td>4</td>\n",
       "    </tr>\n",
       "  </tbody>\n",
       "</table>\n",
       "</div>"
      ],
      "text/plain": [
       "      Word Stop Word  Count  Running Count  Position\n",
       "0  william     False     12              1         0\n",
       "1        l      True      0              0         1\n",
       "2   shirer     False      5              1         2\n",
       "3      the      True      0              0         3\n",
       "4     rise     False     48              1         4"
      ]
     },
     "metadata": {},
     "output_type": "display_data"
    }
   ],
   "source": [
    "display(rafo3r.head())"
   ]
  },
  {
   "cell_type": "code",
   "execution_count": null,
   "metadata": {
    "collapsed": false
   },
   "outputs": [],
   "source": [
    "rafo3r_sliced = pd.DataFrame()\n",
    "for word in set(list(rafo3r[rafo3r['Stop Word'] == False]['Word'])): #iterate over unique words\n",
    "    for i, v in enumerate(broken_list):   \n",
    "    #if i % break_point == 0 or x == len(rafo3r):\n",
    "        if i == 0:\n",
    "            v0 = 0\n",
    "        else:\n",
    "            v0 = broken_list[i-1]\n",
    "        rafo3r_sliced.loc[str(i),word] = rafo3r[rafo3r['Word'] == word][v0:v]['Running Count'].sum\n",
    "display (rafo3r_sliced.head())"
   ]
  },
  {
   "cell_type": "code",
   "execution_count": 156,
   "metadata": {
    "collapsed": false
   },
   "outputs": [],
   "source": [
    "print(rafo3r[rafo3r['Word'] == 'germany'][1016 <= rafo3r['Position']][1016 <= rafo3r['Position']])\n",
    "#print([1000:1200]['Running Count'].max())"
   ]
  },
  {
   "cell_type": "code",
   "execution_count": 177,
   "metadata": {
    "collapsed": false
   },
   "outputs": [],
   "source": [
    "def _count_within_range(word, v0, v):\n",
    "    if len(rafo3r[rafo3r['Word'] == word][v0 < rafo3r['Position']][v >= rafo3r['Position']]['Running Count']) == 0:\n",
    "        return 0\n",
    "    return rafo3r[rafo3r['Word'] == word][v0 < rafo3r['Position']][v >= rafo3r['Position']]['Running Count'].max() - rafo3r[rafo3r['Word'] == word][v0 < rafo3r['Position']][v >= rafo3r['Position']]['Running Count'].min()"
   ]
  },
  {
   "cell_type": "code",
   "execution_count": 239,
   "metadata": {
    "collapsed": false
   },
   "outputs": [],
   "source": [
    "#places_json = json.loads('{\"germany\":[\"german\"],\"austria\":[]}')\n",
    "def word_vs_range_df_maker(book_df, word_json, break_point = 10000, min_count_req = 400):\n",
    "    peak = len(book_df)\n",
    "    broken_list = list(range(0,peak,break_point))\n",
    "    broken_list.pop(0)#remove 0\n",
    "    if broken_list[-1] != peak: broken_list.append(peak)\n",
    "    plotter_df = pd.DataFrame()\n",
    "    for word_main in word_json:\n",
    "        these_words = word_json[word_main]\n",
    "        for i, v in enumerate(broken_list):\n",
    "            if i == 0:\n",
    "                v0 = 0\n",
    "            else:\n",
    "                v0 = broken_list[i-1]\n",
    "            plotter_df.loc[str(v),word_main] = _count_within_range(word_main,v0,v)\n",
    "            #print(plotter2_df.at[str(v),place_main])\n",
    "            #rafo3r[rafo3r['Word'] == place_main][v0:v]['Running Count'].max() - rafo3r[rafo3r['Word'] == place_main][v0:v]['Running Count'].min()\n",
    "            for word_sub in these_words:\n",
    "                plotter_df.loc[str(v),word_main] += _count_within_range(word_sub,v0,v)\n",
    "#    plotter_df = plotter_df.drop(plotter_df.sum(axis=0)\n",
    "#                                 [plotter_df.sum(axis=0)<min_count_req].index,axis=1)\n",
    "    return plotter_df"
   ]
  },
  {
   "cell_type": "code",
   "execution_count": 295,
   "metadata": {
    "collapsed": false
   },
   "outputs": [],
   "source": [
    "places = open(os.getcwd() + os.sep + 'places.json', 'r').read()\n",
    "places_json = json.loads(places)\n",
    "people = open(os.getcwd() + os.sep + 'people.json', 'r').read()\n",
    "people_json = json.loads(people)"
   ]
  },
  {
   "cell_type": "code",
   "execution_count": 3,
   "metadata": {
    "collapsed": false
   },
   "outputs": [
    {
     "name": "stdout",
     "output_type": "stream",
     "text": [
      "VIZ\n"
     ]
    }
   ],
   "source": [
    "rafo3r_viz = bv.book_viz(rafo3r, toc, p1, p2, places_json, people_json)\n",
    "rafo3r_viz.places_vs_chapters()"
   ]
  },
  {
   "cell_type": "code",
   "execution_count": 7,
   "metadata": {
    "collapsed": false
   },
   "outputs": [],
   "source": [
    "#rafo3r_viz.plotter_df.iplot(fill=True, filename='cuflinks/filled-area')"
   ]
  },
  {
   "cell_type": "code",
   "execution_count": 10,
   "metadata": {
    "collapsed": false,
    "scrolled": true
   },
   "outputs": [],
   "source": []
  },
  {
   "cell_type": "code",
   "execution_count": 307,
   "metadata": {
    "collapsed": false,
    "scrolled": true
   },
   "outputs": [],
   "source": [
    "#using pivot2, create a new dataframe with words (subset based on places from json) as columns and chapter (counts)\n",
    "#as rows.\n",
    "def word_vs_chapter_df_maker(book_pivot2, word_json, ch_list, min_count_req = 400):\n",
    "    bp2 = book_pivot2.copy()  #to my suprise, without this i was modifying the actual df (didnt think would happen in func)\n",
    "    \n",
    "    #######                      \n",
    "    #remove this once you fix bug in pivot maker\n",
    "    #print('P1',bp2.head())\n",
    "    bp2.index = bp2.index.droplevel(1)\n",
    "    bp2 = bp2[~bp2.index.duplicated(keep='first')]\n",
    "    #print('P2',bp2.head())\n",
    "    #######                      \n",
    "    \n",
    "    plotter_df = pd.DataFrame()\n",
    "    for word_main in word_json:\n",
    "        #print (word_main)\n",
    "        other_words = word_json[word_main]\n",
    "        s = 'Word == \"%s\"'%(word_main)\n",
    "        #print (book_pivot2.query(s))\n",
    "        #print (list(bp2.query(s).index)[:5])\n",
    "        master_df = bp2.query(s).reset_index().set_index('Chapter')\n",
    "        #try:\n",
    "        master_df = master_df.reindex(ch_list).fillna(0)\n",
    "        #except:\n",
    "        #    #reach this if word appears in all chapters\n",
    "        #    print (\"reindex fail on\",word_main)\n",
    "        #    print (master_df.index)\n",
    "        #    pass\n",
    "        master_df['Word'] = word_main\n",
    "        master_df.sort_index(inplace=True)\n",
    "        try:\n",
    "            del master_df['Book']\n",
    "        except:\n",
    "            #remove this try once you fix the issue that lets you remove the stuff at start.\n",
    "            #issue is that you remove book up there so you cant delete it here.\n",
    "            pass\n",
    "        for word_sub in other_words:\n",
    "            s = 'Word == \"%s\"'%(word_sub)\n",
    "            minor_df = bp2.query(s).reset_index().set_index('Chapter')\n",
    "            minor_df = minor_df.reindex(ch_list).fillna(0)\n",
    "            minor_df.sort_index(inplace=True)\n",
    "            try:\n",
    "                del minor_df['Book']\n",
    "            except:\n",
    "                #remove this try once you fix the issue that lets you remove the stuff at start.\n",
    "                #issue is that you remove book up there so you cant delete it here.\n",
    "                pass\n",
    "            master_df['Count'] = master_df['Count'] + minor_df['Count']\n",
    "        plotter_df = pd.concat([plotter_df,master_df])\n",
    "    plotter_df = plotter_df.reset_index()\n",
    "    plotter_df.set_index(['Chapter', 'Word'], inplace=True)\n",
    "    #print(\"for done\")\n",
    "    #print (plotter_df.head())\n",
    "    #debug_df = plotter_df.copy()\n",
    "    #try: \n",
    "    plotter_df = plotter_df.unstack(level=1)\n",
    "    #except:\n",
    "    #    pass\n",
    "    #    print (\"unstack failed\")\n",
    "    #    #need to figure out why this errors for the person json. \n",
    "    plotter_df = plotter_df.drop(plotter_df.sum(axis=0)\n",
    "                                 [plotter_df.sum(axis=0)<min_count_req].index,axis=1)\n",
    "    #try:\n",
    "    plotter_df.columns = plotter_df.columns.droplevel(0)\n",
    "    #except:\n",
    "    #    pass\n",
    "    #    print (\"level drop failed\")\n",
    "    #    #need to figure out why this errors for the person json.\n",
    "    return plotter_df#, debug_df"
   ]
  },
  {
   "cell_type": "code",
   "execution_count": 311,
   "metadata": {
    "collapsed": false
   },
   "outputs": [],
   "source": [
    "num_chapters = max(book_pivot2.reset_index()['Chapter'])\n",
    "ch_list = list(range(1,num_chapters+1))"
   ]
  },
  {
   "cell_type": "code",
   "execution_count": 309,
   "metadata": {
    "collapsed": false
   },
   "outputs": [
    {
     "name": "stdout",
     "output_type": "stream",
     "text": [
      "Word     austria  britain  czechoslovakia  france  germany  italy  poland  \\\n",
      "Chapter                                                                     \n",
      "1            3.0      2.0             2.0     3.0     33.0    0.0     4.0   \n",
      "2          104.0      2.0             9.0     2.0     76.0    0.0     0.0   \n",
      "3           11.0      7.0             0.0     2.0    159.0    1.0     2.0   \n",
      "4            5.0      3.0             0.0    15.0    166.0    0.0     4.0   \n",
      "5           17.0     15.0             3.0    29.0    246.0    1.0     1.0   \n",
      "\n",
      "Word     russia  united_states  \n",
      "Chapter                         \n",
      "1           5.0            2.0  \n",
      "2           1.0            0.0  \n",
      "3          11.0            6.0  \n",
      "4          13.0            0.0  \n",
      "5          13.0            2.0  \n",
      "Word     goering  hitler  mussolini  ribbentrop\n",
      "Chapter                                        \n",
      "1            1.0    15.0        1.0         0.0\n",
      "2            2.0   150.0        0.0         0.0\n",
      "3            2.0   141.0        0.0         0.0\n",
      "4            7.0   116.0        2.0         0.0\n",
      "5            0.0   140.0        0.0         0.0\n"
     ]
    },
    {
     "name": "stderr",
     "output_type": "stream",
     "text": [
      "/Users/lukestarnes/anaconda/envs/Py3.5/lib/python3.5/site-packages/ipykernel/__main__.py:2: UserWarning:\n",
      "\n",
      "Boolean Series key will be reindexed to match DataFrame index.\n",
      "\n",
      "/Users/lukestarnes/anaconda/envs/Py3.5/lib/python3.5/site-packages/ipykernel/__main__.py:4: UserWarning:\n",
      "\n",
      "Boolean Series key will be reindexed to match DataFrame index.\n",
      "\n"
     ]
    },
    {
     "name": "stdout",
     "output_type": "stream",
     "text": [
      "       austria  united_states  czechoslovakia  slovakia  hungary  britain  \\\n",
      "10000     43.0            1.0             3.0       0.0      0.0      1.0   \n",
      "20000     60.0            0.0             3.0       0.0      0.0      5.0   \n",
      "30000      5.0            4.0             0.0       0.0      0.0      0.0   \n",
      "40000      0.0            0.0             0.0       0.0      0.0      0.0   \n",
      "50000      7.0            0.0             0.0       0.0      0.0      3.0   \n",
      "\n",
      "       russia  denmark  japan  belgium  sweeden  norway  poland  france  \\\n",
      "10000     3.0      0.0    0.0      0.0      0.0     0.0     3.0     2.0   \n",
      "20000     2.0      0.0    0.0      0.0      0.0     0.0     0.0     0.0   \n",
      "30000    10.0      0.0    0.0      0.0      0.0     0.0     1.0     0.0   \n",
      "40000     4.0      0.0    0.0      0.0      0.0     0.0     3.0    13.0   \n",
      "50000     8.0      0.0    0.0      0.0      0.0     0.0     0.0    11.0   \n",
      "\n",
      "       germany  italy  \n",
      "10000     69.0    0.0  \n",
      "20000     92.0    0.0  \n",
      "30000    114.0    0.0  \n",
      "40000    118.0    0.0  \n",
      "50000    117.0    0.0  \n",
      "       chamberlain  schulenburg  truman  jodl  hanfstaengl  rastenburg  \\\n",
      "10000          0.0          0.0     0.0   0.0          0.0         0.0   \n",
      "20000          0.0          0.0     0.0   0.0          0.0         0.0   \n",
      "30000          0.0          0.0     0.0   0.0          6.0         0.0   \n",
      "40000          0.0          0.0     0.0   0.0          0.0         0.0   \n",
      "50000          0.0          0.0     0.0   0.0          0.0         0.0   \n",
      "\n",
      "       weizsaecker  papen  himmler  heydrich   ...    rundstedt  schleicher  \\\n",
      "10000          0.0    2.0      0.0       0.0   ...          0.0         1.0   \n",
      "20000          0.0    0.0      0.0       0.0   ...          0.0         0.0   \n",
      "30000          0.0    0.0      0.0       0.0   ...          0.0         0.0   \n",
      "40000          0.0    0.0      0.0       0.0   ...          0.0         0.0   \n",
      "50000          0.0    0.0      0.0       0.0   ...          0.0         0.0   \n",
      "\n",
      "       blomberg  beck  haider  schuschnigg  mussolini  kordt  molotov  rommel  \n",
      "10000       0.0   0.0     0.0          0.0        0.0    0.0      0.0     0.0  \n",
      "20000       0.0   0.0     0.0          0.0        0.0    0.0      0.0     0.0  \n",
      "30000       0.0   0.0     0.0          0.0        0.0    0.0      0.0     0.0  \n",
      "40000       0.0   0.0     0.0          0.0        1.0    0.0      0.0     0.0  \n",
      "50000       0.0   0.0     0.0          0.0        0.0    0.0      0.0     0.0  \n",
      "\n",
      "[5 rows x 48 columns]\n"
     ]
    }
   ],
   "source": [
    "places_vs_chapter_df = word_vs_chapter_df_maker(book_pivot2, places_json, ch_list, 400)\n",
    "#print (places_vs_chapter_df.head())\n",
    "people_vs_chapter_df = word_vs_chapter_df_maker(book_pivot2, people_json, ch_list, 400)\n",
    "#print (people_vs_chapter_df.head())\n",
    "places_vs_range_df = word_vs_range_df_maker(rafo3r, places_json, 10000, 400)\n",
    "#print (places_vs_range_df.head())\n",
    "people_vs_range_df = word_vs_range_df_maker(rafo3r, people_json, 10000, 400)\n",
    "#print (people_vs_range_df.head())"
   ]
  },
  {
   "cell_type": "code",
   "execution_count": 115,
   "metadata": {
    "collapsed": false
   },
   "outputs": [],
   "source": [
    "#import cufflinks as cf\n",
    "#init_notebook_mode()"
   ]
  },
  {
   "cell_type": "code",
   "execution_count": 116,
   "metadata": {
    "collapsed": false
   },
   "outputs": [
    {
     "data": {
      "text/plain": [
       "['polar', 'white', 'solar', 'ggplot', 'pearl', 'space']"
      ]
     },
     "execution_count": 116,
     "metadata": {},
     "output_type": "execute_result"
    }
   ],
   "source": [
    "#cf.getThemes()"
   ]
  },
  {
   "cell_type": "code",
   "execution_count": 84,
   "metadata": {
    "collapsed": false,
    "scrolled": true
   },
   "outputs": [],
   "source": [
    "plotter2_df.iplot(kind='scatter', fill=True, filename='cufflinks/filled-area')"
   ]
  },
  {
   "cell_type": "code",
   "execution_count": 338,
   "metadata": {
    "collapsed": false
   },
   "outputs": [
    {
     "name": "stdout",
     "output_type": "stream",
     "text": [
      "['Austria', 'Britain', 'Czechoslovakia', 'France', 'Germany', 'Italy', 'Poland', 'Russia', 'United States']\n"
     ]
    }
   ],
   "source": [
    "def _col_clean(name):\n",
    "    return name.replace('_',' ').title()"
   ]
  },
  {
   "cell_type": "code",
   "execution_count": 340,
   "metadata": {
    "collapsed": false
   },
   "outputs": [
    {
     "data": {
      "text/html": [
       "<iframe id=\"igraph\" scrolling=\"no\" style=\"border:none;\" seamless=\"seamless\" src=\"https://plot.ly/~yg2bsm/30.embed\" height=\"525px\" width=\"100%\"></iframe>"
      ],
      "text/plain": [
       "<plotly.tools.PlotlyDisplay object>"
      ]
     },
     "execution_count": 340,
     "metadata": {},
     "output_type": "execute_result"
    }
   ],
   "source": [
    "c = 256 / len(places_vs_chapter_df.columns)\n",
    "new_col_names = list(map(_col_clean, list(places_vs_chapter_df.columns)))\n",
    "\n",
    "py.iplot([{\n",
    "    'x': places_vs_chapter_df.index,\n",
    "    'y': places_vs_chapter_df[col],\n",
    "    'name': new_col_names[i],\n",
    "    'fill' : 'tonexty',\n",
    "    'line' : dict(color = ('rgb(%i, %i, 100)'%(int(c * i),int(255 - c * i)))),\n",
    "}  for i, col in enumerate(places_vs_chapter_df.columns)], filename='plotly/places_vs_chapter')"
   ]
  },
  {
   "cell_type": "code",
   "execution_count": 230,
   "metadata": {
    "collapsed": false
   },
   "outputs": [
    {
     "data": {
      "text/html": [
       "<iframe id=\"igraph\" scrolling=\"no\" style=\"border:none;\" seamless=\"seamless\" src=\"https://plot.ly/~yg2bsm/27.embed\" height=\"587px\" width=\"1116px\"></iframe>"
      ],
      "text/plain": [
       "<plotly.tools.PlotlyDisplay object>"
      ]
     },
     "execution_count": 230,
     "metadata": {},
     "output_type": "execute_result"
    }
   ],
   "source": [
    "#places_vs_chapter_df.iplot(kind='scatter', fill=True, filename='cufflinks/filled-area')"
   ]
  },
  {
   "cell_type": "code",
   "execution_count": 310,
   "metadata": {
    "collapsed": false
   },
   "outputs": [
    {
     "data": {
      "text/html": [
       "<iframe id=\"igraph\" scrolling=\"no\" style=\"border:none;\" seamless=\"seamless\" src=\"https://plot.ly/~yg2bsm/27.embed\" height=\"587px\" width=\"1116px\"></iframe>"
      ],
      "text/plain": [
       "<plotly.tools.PlotlyDisplay object>"
      ]
     },
     "execution_count": 310,
     "metadata": {},
     "output_type": "execute_result"
    }
   ],
   "source": [
    "#people_vs_chapter_df.iplot(kind='scatter', fill=True, filename='cufflinks/filled-area')\n",
    "\n",
    "c = 256 / len(people_vs_chapter_df.columns)\n",
    "new_col_names = list(map(_col_clean, list(people_vs_chapter_df.columns)))\n",
    "\n",
    "py.iplot([{\n",
    "    'x': people_vs_chapter_df.index,\n",
    "    'y': people_vs_chapter_df[col],\n",
    "    'name': new_col_names[i],\n",
    "    'fill' : 'tonexty',\n",
    "    'line' : dict(color = ('rgb(%i, %i, 100)'%(int(c * i),int(255 - c * i)))),\n",
    "}  for i, col in enumerate(places_vs_chapter_df.columns)], filename='plotly/places_vs_chapter')"
   ]
  },
  {
   "cell_type": "code",
   "execution_count": 341,
   "metadata": {
    "collapsed": false
   },
   "outputs": [
    {
     "data": {
      "text/html": [
       "<iframe id=\"igraph\" scrolling=\"no\" style=\"border:none;\" seamless=\"seamless\" src=\"https://plot.ly/~yg2bsm/32.embed\" height=\"525px\" width=\"100%\"></iframe>"
      ],
      "text/plain": [
       "<plotly.tools.PlotlyDisplay object>"
      ]
     },
     "execution_count": 341,
     "metadata": {},
     "output_type": "execute_result"
    }
   ],
   "source": [
    "#places_vs_range_df.iplot(kind='scatter', fill=True, filename='cufflinks/filled-area')\n",
    "\n",
    "c = 256 / len(places_vs_range_df.columns)\n",
    "new_col_names = list(map(_col_clean, list(places_vs_range_df.columns)))\n",
    "\n",
    "py.iplot([{\n",
    "    'x': places_vs_range_df.index,\n",
    "    'y': places_vs_range_df[col],\n",
    "    'name': new_col_names[i],\n",
    "    'fill' : 'tonexty',\n",
    "    'line' : dict(color = ('rgb(%i, %i, 100)'%(int(c * i),int(255 - c * i)))),\n",
    "}  for i, col in enumerate(places_vs_range_df.columns)], filename='plotly/places_vs_range')"
   ]
  },
  {
   "cell_type": "code",
   "execution_count": 344,
   "metadata": {
    "collapsed": false
   },
   "outputs": [
    {
     "name": "stdout",
     "output_type": "stream",
     "text": [
      "       chamberlain  schulenburg  truman  jodl  hanfstaengl  rastenburg  \\\n",
      "10000          0.0          0.0     0.0   0.0          0.0         0.0   \n",
      "20000          0.0          0.0     0.0   0.0          0.0         0.0   \n",
      "\n",
      "       weizsaecker  papen  himmler  heydrich   ...    rundstedt  schleicher  \\\n",
      "10000          0.0    2.0      0.0       0.0   ...          0.0         1.0   \n",
      "20000          0.0    0.0      0.0       0.0   ...          0.0         0.0   \n",
      "\n",
      "       blomberg  beck  haider  schuschnigg  mussolini  kordt  molotov  rommel  \n",
      "10000       0.0   0.0     0.0          0.0        0.0    0.0      0.0     0.0  \n",
      "20000       0.0   0.0     0.0          0.0        0.0    0.0      0.0     0.0  \n",
      "\n",
      "[2 rows x 48 columns]\n"
     ]
    },
    {
     "data": {
      "text/html": [
       "<iframe id=\"igraph\" scrolling=\"no\" style=\"border:none;\" seamless=\"seamless\" src=\"https://plot.ly/~yg2bsm/34.embed\" height=\"525px\" width=\"100%\"></iframe>"
      ],
      "text/plain": [
       "<plotly.tools.PlotlyDisplay object>"
      ]
     },
     "execution_count": 344,
     "metadata": {},
     "output_type": "execute_result"
    }
   ],
   "source": [
    "#people_vs_range_df.iplot(kind='scatter', fill=True, filename='cufflinks/filled-area')\n",
    "c = 256 / len(people_vs_range_df.columns)\n",
    "new_col_names = list(map(_col_clean, list(people_vs_range_df.columns)))\n",
    "\n",
    "py.iplot([{\n",
    "    'x': people_vs_range_df.index,\n",
    "    'y': people_vs_range_df[col],\n",
    "    'name': new_col_names[i],\n",
    "    'fill' : 'tonexty',\n",
    "    'line' : dict(color = ('rgb(%i, %i, 100)'%(int(c * i),int(255 - c * i)))),\n",
    "}  for i, col in enumerate(people_vs_range_df.columns)], filename='plotly/people_vs_range')"
   ]
  },
  {
   "cell_type": "code",
   "execution_count": null,
   "metadata": {
    "collapsed": true
   },
   "outputs": [],
   "source": [
    "#table - top 5 people by chapter"
   ]
  },
  {
   "cell_type": "code",
   "execution_count": null,
   "metadata": {
    "collapsed": false
   },
   "outputs": [],
   "source": [
    "#%matplotlib inline\n",
    "germany = rafo3r[rafo3r['Word'] == 'germany']\n",
    "#c,bins = np.histogram(germany)\n",
    "#germany.hist(bins=bins)\n",
    "\n",
    "\n",
    "\n",
    "df.iplot(kind='scatter', filename='cufflinks/cf-simple-line')\n",
    "data = [go.Scatter(x= germany.index,y=germany['Running Count'],name='Germany')]\n",
    "#data2 = [go.Histogram(x= c,#germany['Running Occurance'],\n",
    "#                      name='Germany')]\n",
    "layout = go.Layout(title='scatter plot with pandas',\n",
    "                   yaxis=dict(title='random distribution'), \n",
    "                   xaxis=dict(title='linspace'))\n",
    "py.iplot(data, filename='pandas/basic-line-plot')#'basic-histogram'"
   ]
  },
  {
   "cell_type": "code",
   "execution_count": 90,
   "metadata": {
    "collapsed": false
   },
   "outputs": [],
   "source": [
    "#data = [go.Scatter(x= plotter_df.index,y=plotter_df['Count'],name='All')]\n",
    "#data2 = [go.Histogram(x= c,#germany['Running Occurance'],\n",
    "#                      name='Germany')]\n",
    "layout = go.Layout(title='scatter plot with pandas',\n",
    "                   yaxis=dict(title='random distribution'), \n",
    "                   xaxis=dict(title='linspace'))\n",
    "#py.iplot(data, filename='pandas/basic-line-plot')#'basic-histogram'"
   ]
  },
  {
   "cell_type": "code",
   "execution_count": 312,
   "metadata": {
    "collapsed": false
   },
   "outputs": [
    {
     "data": {
      "text/html": [
       "<div>\n",
       "<table border=\"1\" class=\"dataframe\">\n",
       "  <thead>\n",
       "    <tr style=\"text-align: right;\">\n",
       "      <th></th>\n",
       "      <th></th>\n",
       "      <th>Count</th>\n",
       "      <th>Position</th>\n",
       "      <th>Running Count</th>\n",
       "    </tr>\n",
       "    <tr>\n",
       "      <th>Word</th>\n",
       "      <th></th>\n",
       "      <th></th>\n",
       "      <th></th>\n",
       "      <th></th>\n",
       "    </tr>\n",
       "  </thead>\n",
       "  <tbody>\n",
       "    <tr>\n",
       "      <th rowspan=\"8\" valign=\"top\"></th>\n",
       "      <th>count</th>\n",
       "      <td>52.0</td>\n",
       "      <td>52.000000</td>\n",
       "      <td>52.000000</td>\n",
       "    </tr>\n",
       "    <tr>\n",
       "      <th>mean</th>\n",
       "      <td>0.0</td>\n",
       "      <td>188255.538462</td>\n",
       "      <td>0.000000</td>\n",
       "    </tr>\n",
       "    <tr>\n",
       "      <th>std</th>\n",
       "      <td>0.0</td>\n",
       "      <td>142844.055449</td>\n",
       "      <td>0.000000</td>\n",
       "    </tr>\n",
       "    <tr>\n",
       "      <th>min</th>\n",
       "      <td>0.0</td>\n",
       "      <td>263.000000</td>\n",
       "      <td>0.000000</td>\n",
       "    </tr>\n",
       "    <tr>\n",
       "      <th>25%</th>\n",
       "      <td>0.0</td>\n",
       "      <td>67038.500000</td>\n",
       "      <td>0.000000</td>\n",
       "    </tr>\n",
       "    <tr>\n",
       "      <th>50%</th>\n",
       "      <td>0.0</td>\n",
       "      <td>170194.000000</td>\n",
       "      <td>0.000000</td>\n",
       "    </tr>\n",
       "    <tr>\n",
       "      <th>75%</th>\n",
       "      <td>0.0</td>\n",
       "      <td>284169.500000</td>\n",
       "      <td>0.000000</td>\n",
       "    </tr>\n",
       "    <tr>\n",
       "      <th>max</th>\n",
       "      <td>0.0</td>\n",
       "      <td>494003.000000</td>\n",
       "      <td>0.000000</td>\n",
       "    </tr>\n",
       "    <tr>\n",
       "      <th rowspan=\"8\" valign=\"top\">$1</th>\n",
       "      <th>count</th>\n",
       "      <td>3.0</td>\n",
       "      <td>3.000000</td>\n",
       "      <td>3.000000</td>\n",
       "    </tr>\n",
       "    <tr>\n",
       "      <th>mean</th>\n",
       "      <td>0.0</td>\n",
       "      <td>277315.333333</td>\n",
       "      <td>0.000000</td>\n",
       "    </tr>\n",
       "    <tr>\n",
       "      <th>std</th>\n",
       "      <td>0.0</td>\n",
       "      <td>174176.980251</td>\n",
       "      <td>0.000000</td>\n",
       "    </tr>\n",
       "    <tr>\n",
       "      <th>min</th>\n",
       "      <td>0.0</td>\n",
       "      <td>138672.000000</td>\n",
       "      <td>0.000000</td>\n",
       "    </tr>\n",
       "    <tr>\n",
       "      <th>25%</th>\n",
       "      <td>0.0</td>\n",
       "      <td>179565.000000</td>\n",
       "      <td>0.000000</td>\n",
       "    </tr>\n",
       "    <tr>\n",
       "      <th>50%</th>\n",
       "      <td>0.0</td>\n",
       "      <td>220458.000000</td>\n",
       "      <td>0.000000</td>\n",
       "    </tr>\n",
       "    <tr>\n",
       "      <th>75%</th>\n",
       "      <td>0.0</td>\n",
       "      <td>346637.000000</td>\n",
       "      <td>0.000000</td>\n",
       "    </tr>\n",
       "    <tr>\n",
       "      <th>max</th>\n",
       "      <td>0.0</td>\n",
       "      <td>472816.000000</td>\n",
       "      <td>0.000000</td>\n",
       "    </tr>\n",
       "    <tr>\n",
       "      <th rowspan=\"8\" valign=\"top\">$10</th>\n",
       "      <th>count</th>\n",
       "      <td>1.0</td>\n",
       "      <td>1.000000</td>\n",
       "      <td>1.000000</td>\n",
       "    </tr>\n",
       "    <tr>\n",
       "      <th>mean</th>\n",
       "      <td>0.0</td>\n",
       "      <td>475960.000000</td>\n",
       "      <td>0.000000</td>\n",
       "    </tr>\n",
       "    <tr>\n",
       "      <th>std</th>\n",
       "      <td>NaN</td>\n",
       "      <td>NaN</td>\n",
       "      <td>NaN</td>\n",
       "    </tr>\n",
       "    <tr>\n",
       "      <th>min</th>\n",
       "      <td>0.0</td>\n",
       "      <td>475960.000000</td>\n",
       "      <td>0.000000</td>\n",
       "    </tr>\n",
       "    <tr>\n",
       "      <th>25%</th>\n",
       "      <td>0.0</td>\n",
       "      <td>475960.000000</td>\n",
       "      <td>0.000000</td>\n",
       "    </tr>\n",
       "    <tr>\n",
       "      <th>50%</th>\n",
       "      <td>0.0</td>\n",
       "      <td>475960.000000</td>\n",
       "      <td>0.000000</td>\n",
       "    </tr>\n",
       "    <tr>\n",
       "      <th>75%</th>\n",
       "      <td>0.0</td>\n",
       "      <td>475960.000000</td>\n",
       "      <td>0.000000</td>\n",
       "    </tr>\n",
       "    <tr>\n",
       "      <th>max</th>\n",
       "      <td>0.0</td>\n",
       "      <td>475960.000000</td>\n",
       "      <td>0.000000</td>\n",
       "    </tr>\n",
       "    <tr>\n",
       "      <th rowspan=\"6\" valign=\"top\">$100</th>\n",
       "      <th>count</th>\n",
       "      <td>1.0</td>\n",
       "      <td>1.000000</td>\n",
       "      <td>1.000000</td>\n",
       "    </tr>\n",
       "    <tr>\n",
       "      <th>mean</th>\n",
       "      <td>0.0</td>\n",
       "      <td>507017.000000</td>\n",
       "      <td>0.000000</td>\n",
       "    </tr>\n",
       "    <tr>\n",
       "      <th>std</th>\n",
       "      <td>NaN</td>\n",
       "      <td>NaN</td>\n",
       "      <td>NaN</td>\n",
       "    </tr>\n",
       "    <tr>\n",
       "      <th>min</th>\n",
       "      <td>0.0</td>\n",
       "      <td>507017.000000</td>\n",
       "      <td>0.000000</td>\n",
       "    </tr>\n",
       "    <tr>\n",
       "      <th>25%</th>\n",
       "      <td>0.0</td>\n",
       "      <td>507017.000000</td>\n",
       "      <td>0.000000</td>\n",
       "    </tr>\n",
       "    <tr>\n",
       "      <th>50%</th>\n",
       "      <td>0.0</td>\n",
       "      <td>507017.000000</td>\n",
       "      <td>0.000000</td>\n",
       "    </tr>\n",
       "    <tr>\n",
       "      <th>...</th>\n",
       "      <th>...</th>\n",
       "      <td>...</td>\n",
       "      <td>...</td>\n",
       "      <td>...</td>\n",
       "    </tr>\n",
       "    <tr>\n",
       "      <th rowspan=\"6\" valign=\"top\">‡ohlendorf</th>\n",
       "      <th>std</th>\n",
       "      <td>NaN</td>\n",
       "      <td>NaN</td>\n",
       "      <td>NaN</td>\n",
       "    </tr>\n",
       "    <tr>\n",
       "      <th>min</th>\n",
       "      <td>1.0</td>\n",
       "      <td>480630.000000</td>\n",
       "      <td>1.000000</td>\n",
       "    </tr>\n",
       "    <tr>\n",
       "      <th>25%</th>\n",
       "      <td>1.0</td>\n",
       "      <td>480630.000000</td>\n",
       "      <td>1.000000</td>\n",
       "    </tr>\n",
       "    <tr>\n",
       "      <th>50%</th>\n",
       "      <td>1.0</td>\n",
       "      <td>480630.000000</td>\n",
       "      <td>1.000000</td>\n",
       "    </tr>\n",
       "    <tr>\n",
       "      <th>75%</th>\n",
       "      <td>1.0</td>\n",
       "      <td>480630.000000</td>\n",
       "      <td>1.000000</td>\n",
       "    </tr>\n",
       "    <tr>\n",
       "      <th>max</th>\n",
       "      <td>1.0</td>\n",
       "      <td>480630.000000</td>\n",
       "      <td>1.000000</td>\n",
       "    </tr>\n",
       "    <tr>\n",
       "      <th rowspan=\"8\" valign=\"top\">‡see</th>\n",
       "      <th>count</th>\n",
       "      <td>1.0</td>\n",
       "      <td>1.000000</td>\n",
       "      <td>1.000000</td>\n",
       "    </tr>\n",
       "    <tr>\n",
       "      <th>mean</th>\n",
       "      <td>1.0</td>\n",
       "      <td>482917.000000</td>\n",
       "      <td>1.000000</td>\n",
       "    </tr>\n",
       "    <tr>\n",
       "      <th>std</th>\n",
       "      <td>NaN</td>\n",
       "      <td>NaN</td>\n",
       "      <td>NaN</td>\n",
       "    </tr>\n",
       "    <tr>\n",
       "      <th>min</th>\n",
       "      <td>1.0</td>\n",
       "      <td>482917.000000</td>\n",
       "      <td>1.000000</td>\n",
       "    </tr>\n",
       "    <tr>\n",
       "      <th>25%</th>\n",
       "      <td>1.0</td>\n",
       "      <td>482917.000000</td>\n",
       "      <td>1.000000</td>\n",
       "    </tr>\n",
       "    <tr>\n",
       "      <th>50%</th>\n",
       "      <td>1.0</td>\n",
       "      <td>482917.000000</td>\n",
       "      <td>1.000000</td>\n",
       "    </tr>\n",
       "    <tr>\n",
       "      <th>75%</th>\n",
       "      <td>1.0</td>\n",
       "      <td>482917.000000</td>\n",
       "      <td>1.000000</td>\n",
       "    </tr>\n",
       "    <tr>\n",
       "      <th>max</th>\n",
       "      <td>1.0</td>\n",
       "      <td>482917.000000</td>\n",
       "      <td>1.000000</td>\n",
       "    </tr>\n",
       "    <tr>\n",
       "      <th rowspan=\"8\" valign=\"top\">‡the</th>\n",
       "      <th>count</th>\n",
       "      <td>2.0</td>\n",
       "      <td>2.000000</td>\n",
       "      <td>2.000000</td>\n",
       "    </tr>\n",
       "    <tr>\n",
       "      <th>mean</th>\n",
       "      <td>2.0</td>\n",
       "      <td>370780.000000</td>\n",
       "      <td>1.500000</td>\n",
       "    </tr>\n",
       "    <tr>\n",
       "      <th>std</th>\n",
       "      <td>0.0</td>\n",
       "      <td>97446.385515</td>\n",
       "      <td>0.707107</td>\n",
       "    </tr>\n",
       "    <tr>\n",
       "      <th>min</th>\n",
       "      <td>2.0</td>\n",
       "      <td>301875.000000</td>\n",
       "      <td>1.000000</td>\n",
       "    </tr>\n",
       "    <tr>\n",
       "      <th>25%</th>\n",
       "      <td>2.0</td>\n",
       "      <td>336327.500000</td>\n",
       "      <td>1.250000</td>\n",
       "    </tr>\n",
       "    <tr>\n",
       "      <th>50%</th>\n",
       "      <td>2.0</td>\n",
       "      <td>370780.000000</td>\n",
       "      <td>1.500000</td>\n",
       "    </tr>\n",
       "    <tr>\n",
       "      <th>75%</th>\n",
       "      <td>2.0</td>\n",
       "      <td>405232.500000</td>\n",
       "      <td>1.750000</td>\n",
       "    </tr>\n",
       "    <tr>\n",
       "      <th>max</th>\n",
       "      <td>2.0</td>\n",
       "      <td>439685.000000</td>\n",
       "      <td>2.000000</td>\n",
       "    </tr>\n",
       "    <tr>\n",
       "      <th rowspan=\"8\" valign=\"top\">‡this</th>\n",
       "      <th>count</th>\n",
       "      <td>1.0</td>\n",
       "      <td>1.000000</td>\n",
       "      <td>1.000000</td>\n",
       "    </tr>\n",
       "    <tr>\n",
       "      <th>mean</th>\n",
       "      <td>1.0</td>\n",
       "      <td>222970.000000</td>\n",
       "      <td>1.000000</td>\n",
       "    </tr>\n",
       "    <tr>\n",
       "      <th>std</th>\n",
       "      <td>NaN</td>\n",
       "      <td>NaN</td>\n",
       "      <td>NaN</td>\n",
       "    </tr>\n",
       "    <tr>\n",
       "      <th>min</th>\n",
       "      <td>1.0</td>\n",
       "      <td>222970.000000</td>\n",
       "      <td>1.000000</td>\n",
       "    </tr>\n",
       "    <tr>\n",
       "      <th>25%</th>\n",
       "      <td>1.0</td>\n",
       "      <td>222970.000000</td>\n",
       "      <td>1.000000</td>\n",
       "    </tr>\n",
       "    <tr>\n",
       "      <th>50%</th>\n",
       "      <td>1.0</td>\n",
       "      <td>222970.000000</td>\n",
       "      <td>1.000000</td>\n",
       "    </tr>\n",
       "    <tr>\n",
       "      <th>75%</th>\n",
       "      <td>1.0</td>\n",
       "      <td>222970.000000</td>\n",
       "      <td>1.000000</td>\n",
       "    </tr>\n",
       "    <tr>\n",
       "      <th>max</th>\n",
       "      <td>1.0</td>\n",
       "      <td>222970.000000</td>\n",
       "      <td>1.000000</td>\n",
       "    </tr>\n",
       "  </tbody>\n",
       "</table>\n",
       "<p>180744 rows × 3 columns</p>\n",
       "</div>"
      ],
      "text/plain": [
       "                  Count       Position  Running Count\n",
       "Word                                                 \n",
       "           count   52.0      52.000000      52.000000\n",
       "           mean     0.0  188255.538462       0.000000\n",
       "           std      0.0  142844.055449       0.000000\n",
       "           min      0.0     263.000000       0.000000\n",
       "           25%      0.0   67038.500000       0.000000\n",
       "           50%      0.0  170194.000000       0.000000\n",
       "           75%      0.0  284169.500000       0.000000\n",
       "           max      0.0  494003.000000       0.000000\n",
       "$1         count    3.0       3.000000       3.000000\n",
       "           mean     0.0  277315.333333       0.000000\n",
       "           std      0.0  174176.980251       0.000000\n",
       "           min      0.0  138672.000000       0.000000\n",
       "           25%      0.0  179565.000000       0.000000\n",
       "           50%      0.0  220458.000000       0.000000\n",
       "           75%      0.0  346637.000000       0.000000\n",
       "           max      0.0  472816.000000       0.000000\n",
       "$10        count    1.0       1.000000       1.000000\n",
       "           mean     0.0  475960.000000       0.000000\n",
       "           std      NaN            NaN            NaN\n",
       "           min      0.0  475960.000000       0.000000\n",
       "           25%      0.0  475960.000000       0.000000\n",
       "           50%      0.0  475960.000000       0.000000\n",
       "           75%      0.0  475960.000000       0.000000\n",
       "           max      0.0  475960.000000       0.000000\n",
       "$100       count    1.0       1.000000       1.000000\n",
       "           mean     0.0  507017.000000       0.000000\n",
       "           std      NaN            NaN            NaN\n",
       "           min      0.0  507017.000000       0.000000\n",
       "           25%      0.0  507017.000000       0.000000\n",
       "           50%      0.0  507017.000000       0.000000\n",
       "...                 ...            ...            ...\n",
       "‡ohlendorf std      NaN            NaN            NaN\n",
       "           min      1.0  480630.000000       1.000000\n",
       "           25%      1.0  480630.000000       1.000000\n",
       "           50%      1.0  480630.000000       1.000000\n",
       "           75%      1.0  480630.000000       1.000000\n",
       "           max      1.0  480630.000000       1.000000\n",
       "‡see       count    1.0       1.000000       1.000000\n",
       "           mean     1.0  482917.000000       1.000000\n",
       "           std      NaN            NaN            NaN\n",
       "           min      1.0  482917.000000       1.000000\n",
       "           25%      1.0  482917.000000       1.000000\n",
       "           50%      1.0  482917.000000       1.000000\n",
       "           75%      1.0  482917.000000       1.000000\n",
       "           max      1.0  482917.000000       1.000000\n",
       "‡the       count    2.0       2.000000       2.000000\n",
       "           mean     2.0  370780.000000       1.500000\n",
       "           std      0.0   97446.385515       0.707107\n",
       "           min      2.0  301875.000000       1.000000\n",
       "           25%      2.0  336327.500000       1.250000\n",
       "           50%      2.0  370780.000000       1.500000\n",
       "           75%      2.0  405232.500000       1.750000\n",
       "           max      2.0  439685.000000       2.000000\n",
       "‡this      count    1.0       1.000000       1.000000\n",
       "           mean     1.0  222970.000000       1.000000\n",
       "           std      NaN            NaN            NaN\n",
       "           min      1.0  222970.000000       1.000000\n",
       "           25%      1.0  222970.000000       1.000000\n",
       "           50%      1.0  222970.000000       1.000000\n",
       "           75%      1.0  222970.000000       1.000000\n",
       "           max      1.0  222970.000000       1.000000\n",
       "\n",
       "[180744 rows x 3 columns]"
      ]
     },
     "execution_count": 312,
     "metadata": {},
     "output_type": "execute_result"
    }
   ],
   "source": [
    "grouped = rafo3r.groupby('Word')\n",
    "grouped.describe()\n",
    "#display(rafo3r.head())"
   ]
  },
  {
   "cell_type": "code",
   "execution_count": 313,
   "metadata": {
    "collapsed": false
   },
   "outputs": [
    {
     "data": {
      "text/plain": [
       "568477    4222\n",
       "136095    4222\n",
       "399802    4222\n",
       "502264    4222\n",
       "321664    4222\n",
       "103615    4222\n",
       "253602    4222\n",
       "11536     4222\n",
       "51862     4222\n",
       "27601     4222\n",
       "Name: Count, dtype: int64"
      ]
     },
     "execution_count": 313,
     "metadata": {},
     "output_type": "execute_result"
    }
   ],
   "source": [
    "rafo3r['Count'].sort_values()[-10:] # top 10 values"
   ]
  },
  {
   "cell_type": "code",
   "execution_count": null,
   "metadata": {
    "collapsed": false
   },
   "outputs": [],
   "source": [
    "rafo3r['Position'] = rafo3r.index\n",
    "\n",
    "occurances = rafo3r.groupby('Word').size()\n",
    "mega_words = occurances.index[occurances >= 1000]\n",
    "rafo3r.index = rafo3r['Word']\n",
    "#sw = rafo3r.ix['Stop Word']\n",
    "#sw.head()"
   ]
  },
  {
   "cell_type": "code",
   "execution_count": null,
   "metadata": {
    "collapsed": false
   },
   "outputs": [],
   "source": [
    "def start_loc(x):\n",
    "    return int(100 * min(x) / len(rafo3r))\n",
    "def end_loc(x):\n",
    "    return int(100 * max(x) / len(rafo3r))\n",
    "rafo3r_pt = rafo3r[rafo3r['Stop Word'] == False].pivot_table(values='Position', \n",
    "            aggfunc=[len,start_loc,end_loc], index='Words')\n",
    "rafo3r_pt.sort_values('len',ascending=False,inplace=True)\n",
    "rafo3r_pt.rename(columns={'len': 'Count'}, inplace=True)\n",
    "display(rafo3r_pt[:10])\n",
    "\n",
    "rafo3r_pt2 = rafo3r[rafo3r['Stop Word'] == False].pivot_table(values='Position', \n",
    "             aggfunc=[len], index=['Word','Book','Chapter'])\n",
    "rafo3r_pt2.sort_values('len',ascending=False,inplace=True)\n",
    "\n",
    "display(rafo3r_pt2[:10])"
   ]
  }
 ],
 "metadata": {
  "kernelspec": {
   "display_name": "Python 3",
   "language": "python",
   "name": "python3"
  },
  "language_info": {
   "codemirror_mode": {
    "name": "ipython",
    "version": 3
   },
   "file_extension": ".py",
   "mimetype": "text/x-python",
   "name": "python",
   "nbconvert_exporter": "python",
   "pygments_lexer": "ipython3",
   "version": "3.5.1"
  }
 },
 "nbformat": 4,
 "nbformat_minor": 0
}
