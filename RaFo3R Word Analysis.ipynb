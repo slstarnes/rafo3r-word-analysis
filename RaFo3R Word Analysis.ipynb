{
 "cells": [
  {
   "cell_type": "markdown",
   "metadata": {},
   "source": [
    "# The Rise and Fall of the Third Reich\n",
    "# A History of Nazi Germany \n",
    "# by William L. Shirer\n",
    "## A Textual Analysis"
   ]
  },
  {
   "cell_type": "markdown",
   "metadata": {},
   "source": [
    "Read in file."
   ]
  },
  {
   "cell_type": "code",
   "execution_count": 2,
   "metadata": {
    "collapsed": false
   },
   "outputs": [],
   "source": [
    "import book_reader as br\n",
    "import book_viz as bv\n",
    "import datetime as dt \n",
    "import pandas as pd\n",
    "import os\n",
    "import json\n",
    "from itertools import chain\n",
    "from wordcloud import WordCloud, get_single_color_func"
   ]
  },
  {
   "cell_type": "code",
   "execution_count": 4,
   "metadata": {
    "collapsed": true
   },
   "outputs": [],
   "source": [
    "from IPython.display import Image, display"
   ]
  },
  {
   "cell_type": "code",
   "execution_count": 5,
   "metadata": {
    "collapsed": true
   },
   "outputs": [],
   "source": [
    "generate_book_df = False\n",
    "generate_toc_df = False\n",
    "generate_pivots = False\n",
    "generate_places_vs_chapter = False\n",
    "generate_people_vs_chapter = False\n",
    "generate_places_vs_range = False\n",
    "generate_people_vs_range = False\n",
    "generate_csvs = False\n",
    "generate_ents = False\n",
    "book_short_name = 'rafo3r'\n",
    "book_file = 'rafo3r.txt'\n",
    "h5_file = 'rafo3r.h5'"
   ]
  },
  {
   "cell_type": "code",
   "execution_count": 6,
   "metadata": {
    "collapsed": true
   },
   "outputs": [],
   "source": [
    "places_json = json.loads(open('places.json', 'r', encoding='utf-8').read())\n",
    "people_json = json.loads(open('people.json', 'r', encoding='utf-8').read())"
   ]
  },
  {
   "cell_type": "code",
   "execution_count": 7,
   "metadata": {
    "collapsed": true
   },
   "outputs": [],
   "source": [
    "people_list = (list(people_json.keys()) + \n",
    "               (list(chain.from_iterable(people_json.values()))))\n",
    "places_list = (list(places_json.keys()) +\n",
    "               (list(chain.from_iterable(places_json.values()))))\n",
    "\n",
    "assert len(people_list) == len(set(people_list))\n",
    "assert len(places_list) == len(set(places_list))\n",
    "assert list(set(people_list) & set(places_list)) == []"
   ]
  },
  {
   "cell_type": "code",
   "execution_count": 8,
   "metadata": {
    "collapsed": false
   },
   "outputs": [
    {
     "name": "stdout",
     "output_type": "stream",
     "text": [
      "Starting\n",
      "Book processed\n",
      "TOC processed\n",
      "Chapter markers made\n",
      "Pivots made\n",
      "Places v Chapter made\n",
      "People v Chapter made\n",
      "Places v Range made\n",
      "People v Range made\n"
     ]
    }
   ],
   "source": [
    "%reload_ext book_reader\n",
    "rafo3r_reader = br.book_reader(book_short_name,\n",
    "                               generate_book_df, generate_toc_df,\n",
    "                               generate_pivots, generate_places_vs_chapter,\n",
    "                               generate_people_vs_chapter,\n",
    "                               generate_places_vs_range,\n",
    "                               generate_people_vs_range,\n",
    "                               places_json, people_json)\n",
    "returned_list = rafo3r_reader.main(book_file, h5_file)\n",
    "rafo3r = returned_list[0]\n",
    "toc = returned_list[1]\n",
    "rafo3r_wordvscount_pivot = returned_list[2]\n",
    "rafo3r_wordchaptervscount_pivot = returned_list[3]\n",
    "rafo3r_wordbookvscount_pivot = returned_list[4]\n",
    "places_vs_chapter_df = returned_list[5]\n",
    "people_vs_chapter_df = returned_list[6]\n",
    "places_vs_range_df = returned_list[7]\n",
    "people_vs_range_df = returned_list[8]"
   ]
  },
  {
   "cell_type": "code",
   "execution_count": 9,
   "metadata": {
    "collapsed": true
   },
   "outputs": [],
   "source": [
    "import plotly.plotly as py\n",
    "import plotly.graph_objs as go\n",
    "from plotly.tools import FigureFactory as FF\n",
    "py.sign_in('yg2bsm', '8e3m3cer5e')"
   ]
  },
  {
   "cell_type": "code",
   "execution_count": 10,
   "metadata": {
    "collapsed": false
   },
   "outputs": [],
   "source": [
    "def _col_clean(name):\n",
    "    return name.replace('_', ' ').title()"
   ]
  },
  {
   "cell_type": "code",
   "execution_count": null,
   "metadata": {
    "collapsed": false
   },
   "outputs": [],
   "source": [
    "words_on_graph = 10\n",
    "drop_top_word = False\n",
    "\n",
    "if drop_top_word:\n",
    "    places_vs_chapter_df.drop(places_vs_chapter_df[\n",
    "                              list(places_vs_chapter_df.sum(axis=0).\n",
    "                              sort_values(ascending=False).index)].\n",
    "                              columns[[0]], axis=1, inplace=True)\n",
    "places_vs_chapter_df = places_vs_chapter_df[list(places_vs_chapter_df.\n",
    "                                                 sum(axis=0).\n",
    "                                                 sort_values(ascending=\n",
    "                                                             False)\n",
    "                                                 [:words_on_graph].index)]\n",
    "\n",
    "#remove last chapter (aftword)\n",
    "if places_vs_chapter_df[-1:].index == 33:\n",
    "    places_vs_chapter_df = places_vs_chapter_df[:-1]\n",
    "\n",
    "visibility_list = []\n",
    "for i in range(len(places_vs_chapter_df.columns)):\n",
    "    if i == Luke Starnes0: \n",
    "        visibility_list.append('legendonly')\n",
    "    elif 1 <= i <= 4: \n",
    "        visibility_list.append('true')\n",
    "    else:\n",
    "        visibility_list.append('legendonly')\n",
    "\n",
    "#colors = [(230, 84, 0), (116, 32, 104), (35, 68, 131), \n",
    "#          (12, 99, 124), (1, 137, 130), (71, 100, 117), \n",
    "#          (80, 84, 77)]\n",
    "\n",
    "colors = [(191, 184, 162), (78, 77, 74), (148, 186, 101), (153, 0, 0), \n",
    "          (12, 99, 124), (39, 144, 176), (230, 84, 0), (35, 68, 131), \n",
    "          (177, 140, 29), (116, 32, 104), (1, 137, 130), (86, 87, 114), \n",
    "          (163, 30, 57), (71, 100, 117), (107, 121, 140), (235, 104, 37)]\n",
    "\n",
    "color_list = []\n",
    "for i in range(len(places_vs_chapter_df.columns)):\n",
    "    index = i - (len(colors) * int(i/len(colors)))\n",
    "    this_color = colors[index]\n",
    "    color_list.append('rgb(%i, %i, %i)'%(this_color[0],\n",
    "                                         this_color[1],\n",
    "                                         this_color[2]))\n",
    "\n",
    "#c = 255 / len(places_vs_chapter_df.columns)\n",
    "new_col_names = list(map(_col_clean,\n",
    "                         list(places_vs_chapter_df.columns)))\n",
    "py.iplot(dict(data=[{'x': places_vs_chapter_df.index,\n",
    "                     'y': places_vs_chapter_df[col],\n",
    "                     'name': new_col_names[i],\n",
    "                     'visible': visibility_list[i],\n",
    "                     'fill': 'none',\n",
    "                     'line': dict(color=(color_list[i]),\n",
    "                                  width=4,\n",
    "                                  smoothing=.8,\n",
    "                                  shape=\"spline\"),\n",
    "                    } for i, col in enumerate(places_vs_chapter_df.columns)],\n",
    "              layout=dict(title='RaFo3R Places vs Chapter',\n",
    "                          #dragmode='zoom',\n",
    "                          xaxis=dict(title='Chapter',\n",
    "                                     tickvals=list(range(2, 36, 2)),\n",
    "                                     tickmode='array',\n",
    "                                     rangeslider=dict(thickness=0.2)),\n",
    "                          yaxis=dict(title='Word Count'))),\n",
    "         filename='plotly/places_vs_chapter')"
   ]
  },
  {
   "cell_type": "code",
   "execution_count": null,
   "metadata": {
    "collapsed": false
   },
   "outputs": [],
   "source": [
    "words_on_graph = 10\n",
    "drop_top_word = False\n",
    "\n",
    "if drop_top_word:\n",
    "    people_vs_chapter_df.drop(people_vs_chapter_df[\n",
    "                              list(people_vs_chapter_df.sum(axis=0).\n",
    "                                   sort_values(ascending=False).index)].\n",
    "                              columns[[0]], axis=1, inplace=True)\n",
    "people_vs_chapter_df = people_vs_chapter_df[list(people_vs_chapter_df.\n",
    "                                                 sum(axis=0).\n",
    "                                                 sort_values(ascending=False)\n",
    "                                                 [:words_on_graph].index)]\n",
    "#remove last chapter (aftword)\n",
    "if places_vs_chapter_df[-1:].index == 33:\n",
    "    people_vs_chapter_df = people_vs_chapter_df[:-1]\n",
    "\n",
    "visibility_list = []\n",
    "for i in range(len(places_vs_chapter_df.columns)):\n",
    "    if i == 0: \n",
    "        visibility_list.append('legendonly')\n",
    "    elif 1 <= i <= 4: \n",
    "        visibility_list.append('true')\n",
    "    else:\n",
    "        visibility_list.append('legendonly')\n",
    "        \n",
    "colors = [(191, 184, 162), (78, 77, 74), (148, 186, 101), (153, 0, 0), \n",
    "          (12, 99, 124), (39, 144, 176), (230, 84, 0), (35, 68, 131), \n",
    "          (177, 140, 29), (116, 32, 104), (1, 137, 130), (86, 87, 114), \n",
    "          (163, 30, 57), (71, 100, 117), (107, 121, 140), (235, 104, 37)]\n",
    "\n",
    "color_list = []\n",
    "for i in range(len(people_vs_chapter_df.columns)):\n",
    "    index = i - (len(colors) * int(i/len(colors)))\n",
    "    this_color = colors[index]\n",
    "    color_list.append('rgb(%i, %i, %i)'%(this_color[0],\n",
    "                                         this_color[1],\n",
    "                                         this_color[2]))\n",
    "new_col_names = list(map(_col_clean,\n",
    "                         list(people_vs_chapter_df.columns)))\n",
    "\n",
    "\n",
    "py.iplot(dict(data=[{\n",
    "                   'x': people_vs_chapter_df.index,\n",
    "                   'y': people_vs_chapter_df[col],\n",
    "                   'name': new_col_names[i],\n",
    "                   'visible': visibility_list[i],\n",
    "                   'fill': 'none',\n",
    "                   'line': dict(color=(color_list[i]),\n",
    "                                width=4,\n",
    "                                smoothing=.8,\n",
    "                                shape=\"spline\"),\n",
    "                   } for i, col in enumerate(people_vs_chapter_df.columns)],\n",
    "                   layout=dict(title = 'RaFo3R People vs Chapter',\n",
    "                               #plot_bgcolor=\"rgb(238, 235, 234)\",\n",
    "                               #dragmode = 'zoom',\n",
    "                               xaxis = dict(title = 'Chapter',\n",
    "                                            tickvals = list(range(2,36,2)),\n",
    "                                            tickmode = 'array',\n",
    "                                            rangeslider = dict(thickness=0.2)),\n",
    "                               yaxis = dict(title = 'Word Count'))), filename='plotly/people_vs_chapter')"
   ]
  },
  {
   "cell_type": "code",
   "execution_count": null,
   "metadata": {
    "collapsed": false
   },
   "outputs": [],
   "source": [
    "words_on_graph = 10\n",
    "drop_top_word = False\n",
    "\n",
    "if drop_top_word:\n",
    "    places_vs_range_df.drop(places_vs_range_df[\n",
    "                            list(places_vs_range_df.sum(axis=0).\n",
    "                            sort_values(ascending=False).index)].\n",
    "                            columns[[0]], axis=1, inplace=True)\n",
    "\n",
    "places_vs_range_df = places_vs_range_df[list(places_vs_range_df.\n",
    "                                             sum(axis=0).\n",
    "                                             sort_values(ascending=False)\n",
    "                                             [:words_on_graph].index)]\n",
    "\n",
    "new_col_names = list(map(_col_clean,\n",
    "                                 list(places_vs_range_df.columns)))\n",
    "\n",
    "visibility_list = []\n",
    "for i in range(len(places_vs_chapter_df.columns)):\n",
    "    if i == 0: \n",
    "        visibility_list.append('legendonly')\n",
    "    elif 1 <= i <= 4: \n",
    "        visibility_list.append('true')\n",
    "    else:\n",
    "        visibility_list.append('legendonly')\n",
    "        \n",
    "colors = [(191, 184, 162), (78, 77, 74), (148, 186, 101), (153, 0, 0), \n",
    "          (12, 99, 124), (39, 144, 176), (230, 84, 0), (35, 68, 131), \n",
    "          (177, 140, 29), (116, 32, 104), (1, 137, 130), (86, 87, 114), \n",
    "          (163, 30, 57), (71, 100, 117), (107, 121, 140), (235, 104, 37)]\n",
    "\n",
    "py.iplot(dict(data=[{\n",
    "                'x': places_vs_range_df.index,\n",
    "                'y': places_vs_range_df[col],\n",
    "                'name': new_col_names[i],\n",
    "                'visible': visibility_list[i],\n",
    "                'fill' : 'none',\n",
    "                'line': dict(color=(color_list[i]),\n",
    "                                width=4,\n",
    "                                smoothing=.8,\n",
    "                                shape=\"spline\"),\n",
    "                   }  for i, col in enumerate(places_vs_range_df.columns)],\n",
    "                   layout=dict(title = 'RaFo3R Places vs 10k Words',\n",
    "                               #dragmode = 'zoom',\n",
    "                               #legend=dict(y=1,x=0.02),\n",
    "                               xaxis = dict(title = 'Per 10k Words',\n",
    "                                            rangeslider = dict(thickness=0.20)),\n",
    "                               yaxis = dict(title = 'Word Count'))), filename='plotly/places_vs_range')"
   ]
  },
  {
   "cell_type": "code",
   "execution_count": null,
   "metadata": {
    "collapsed": false
   },
   "outputs": [],
   "source": [
    "words_on_graph = 10\n",
    "drop_top_word = False\n",
    "\n",
    "if drop_top_word:\n",
    "    people_vs_range_df.drop(places_vs_range_df[\n",
    "                            list(people_vs_range_df.sum(axis=0).\n",
    "                            sort_values(ascending=False).index)].\n",
    "                            columns[[0]], axis=1, inplace=True)\n",
    "\n",
    "people_vs_range_df = people_vs_range_df[list(people_vs_range_df.\n",
    "                                             sum(axis=0).\n",
    "                                             sort_values(ascending=False)\n",
    "                                             [:words_on_graph].index)]\n",
    "\n",
    "new_col_names = list(map(_col_clean,\n",
    "                                 list(people_vs_range_df.columns)))\n",
    "\n",
    "visibility_list = []\n",
    "for i in range(len(people_vs_range_df.columns)):\n",
    "    if i == 0: \n",
    "        visibility_list.append('legendonly')\n",
    "    elif 1 <= i <= 4: \n",
    "        visibility_list.append('true')\n",
    "    else:\n",
    "        visibility_list.append('legendonly')\n",
    "        \n",
    "colors = [(191, 184, 162), (78, 77, 74), (148, 186, 101), (153, 0, 0), \n",
    "          (12, 99, 124), (39, 144, 176), (230, 84, 0), (35, 68, 131), \n",
    "          (177, 140, 29), (116, 32, 104), (1, 137, 130), (86, 87, 114), \n",
    "          (163, 30, 57), (71, 100, 117), (107, 121, 140), (235, 104, 37)]\n",
    "\n",
    "py.iplot(dict(data=[{\n",
    "                'x': people_vs_range_df.index,\n",
    "                'y': people_vs_range_df[col],\n",
    "                'name': new_col_names[i],\n",
    "                'visible': visibility_list[i],\n",
    "                'fill' : 'none',\n",
    "                'line': dict(color=(color_list[i]),\n",
    "                                width=4,\n",
    "                                smoothing=.8,\n",
    "                                shape=\"spline\"),\n",
    "                   }  for i, col in enumerate(people_vs_range_df.columns)],\n",
    "                   layout=dict(title = 'RaFo3R People vs 10k Words',\n",
    "                               #dragmode = 'zoom',\n",
    "                               xaxis = dict(title = 'Per 10k Words',\n",
    "                                            rangeslider = dict(thickness=0.20)),\n",
    "                               yaxis = dict(title = 'Word Count'))), filename='plotly/places_vs_range')"
   ]
  },
  {
   "cell_type": "code",
   "execution_count": 19,
   "metadata": {
    "collapsed": true
   },
   "outputs": [],
   "source": [
    "num_chapters = max(people_vs_chapter_df.index)\n",
    "ch_list = list(range(1, num_chapters + 1))\n",
    "\n",
    "#remove last chapter (aftword)\n",
    "if ch_list[-1] == 33:\n",
    "    ch_list = ch_list[:-1]\n",
    "assert (len(ch_list) == 32)"
   ]
  },
  {
   "cell_type": "code",
   "execution_count": 12,
   "metadata": {
    "collapsed": false
   },
   "outputs": [
    {
     "data": {
      "text/html": [
       "<iframe id=\"igraph\" scrolling=\"no\" style=\"border:none;\" seamless=\"seamless\" src=\"https://plot.ly/~yg2bsm/40.embed\" height=\"1070px\" width=\"100%\"></iframe>"
      ],
      "text/plain": [
       "<plotly.tools.PlotlyDisplay object>"
      ]
     },
     "execution_count": 12,
     "metadata": {},
     "output_type": "execute_result"
    }
   ],
   "source": [
    "top_words = []\n",
    "num_top_words = 7\n",
    "\n",
    "\n",
    "\n",
    "for i in ch_list:\n",
    "    top_words.append(list(people_vs_chapter_df.loc[i].\n",
    "                          sort_values(ascending=False)\n",
    "                          [:num_top_words].index))\n",
    "top_words_df = pd.DataFrame(top_words, index=ch_list,\n",
    "                            columns=list(range(1, num_top_words + 1)))\n",
    "\n",
    "py.iplot(FF.create_table(top_words_df, index=True),\n",
    "         filename='plotly/top_people_table')"
   ]
  },
  {
   "cell_type": "code",
   "execution_count": 13,
   "metadata": {
    "collapsed": false
   },
   "outputs": [],
   "source": [
    "import random\n",
    "def grey_color_func(word, font_size, position, orientation,\n",
    "                    random_state=None, **kwargs):\n",
    "    return \"hsl(0, 0%%, %d%%)\" % random.randint(60, 100)"
   ]
  },
  {
   "cell_type": "code",
   "execution_count": 14,
   "metadata": {
    "collapsed": true
   },
   "outputs": [],
   "source": [
    "import PIL\n",
    "import matplotlib.pyplot as plt\n",
    "import matplotlib.image as mpimg\n",
    "import matplotlib.gridspec as gridspec\n",
    "import numpy as np"
   ]
  },
  {
   "cell_type": "code",
   "execution_count": 15,
   "metadata": {
    "collapsed": true
   },
   "outputs": [],
   "source": [
    "book_df = rafo3r"
   ]
  },
  {
   "cell_type": "code",
   "execution_count": 23,
   "metadata": {
    "collapsed": false
   },
   "outputs": [],
   "source": [
    "def matrix_cloud_maker(img_per_side=(1,1), image_inches=1,dpi=96, book_dict=[], file_name=''):\n",
    "    #assumes a list of dicts in the following format:\n",
    "        #[{section_num : book_list_for_section},{section_num : book_list_for_section},...]\n",
    "    width = (img_per_side[0] * image_inches) + (0.025 * (img_per_side[0]-1))\n",
    "    height = (img_per_side[1] * image_inches) + (0.025 * (img_per_side[1]-1))\n",
    "    print (width, height)\n",
    "    print (width*dpi, height*dpi)\n",
    "    print (img_per_side[0],img_per_side[1])\n",
    "    fig = plt.figure(figsize=(width,height), dpi=dpi)\n",
    "    fig.set_figwidth(width)\n",
    "    fig.set_figheight(height)\n",
    "    ax = [fig.add_subplot(img_per_side[0],img_per_side[1],i+1) for i in range(len(book_dict))]\n",
    "    print(dir(ax))\n",
    "    #for it in iterable:\n",
    "    for num, book_list in book_dict.items():\n",
    "        i = num - 1\n",
    "        #book_list = list(book_df['Word'][book_df[col_to_iterate] == it])\n",
    "        book_wordcloud = WordCloud(width=image_inches * dpi,\n",
    "                                   height=image_inches * dpi,\n",
    "                                   #max_words=300,\n",
    "                                   min_font_size=8,\n",
    "                                   #max_font_size=100,\n",
    "                                   color_func=get_single_color_func('darkred'),\n",
    "                                   stopwords=rafo3r_reader.stopwords).generate(\n",
    "                                   ' '.join(book_list))\n",
    "        #ax[i].set_xticklabels([])\n",
    "        #ax[i].set_yticklabels([])\n",
    "        ax[i].axis('off')\n",
    "        #ax[i].set_xticks([])\n",
    "        #need to turn off ticks\n",
    "        ax[i].set_aspect('equal')\n",
    "        book_wordcloud.recolor(color_func=grey_color_func)\n",
    "        ax[i].imshow(book_wordcloud.to_image())\n",
    "    fig.subplots_adjust(wspace=0.025, hspace=0.025)\n",
    "    plt.savefig(file_name, dpi=dpi)\n",
    "    plt.close(fig)\n",
    "    print ('done')"
   ]
  },
  {
   "cell_type": "code",
   "execution_count": 18,
   "metadata": {
    "collapsed": false
   },
   "outputs": [
    {
     "name": "stderr",
     "output_type": "stream",
     "text": [
      "/Users/lukestarnes/anaconda/envs/Py3.5/lib/python3.5/site-packages/ipykernel/__main__.py:2: UserWarning:\n",
      "\n",
      "Boolean Series key will be reindexed to match DataFrame index.\n",
      "\n",
      "/Users/lukestarnes/anaconda/envs/Py3.5/lib/python3.5/site-packages/ipykernel/__main__.py:6: UserWarning:\n",
      "\n",
      "Boolean Series key will be reindexed to match DataFrame index.\n",
      "\n"
     ]
    }
   ],
   "source": [
    "book_people_df = book_df.copy()\n",
    "book_people_df = book_people_df[book_people_df['Word'].isin(list(people_json.keys()))][book_df['Count'] > 1]\n",
    "book_people_df['Word'] = book_people_df['Word'].apply(lambda x: x.title())\n",
    "\n",
    "book_places_df = book_df.copy()\n",
    "book_places_df = book_places_df[book_df['Word'].isin(places_list)][book_df['Count'] > 1]\n",
    "book_places_df['Word'] = book_places_df['Word'].apply(lambda x: x.title().replace('_', ''))"
   ]
  },
  {
   "cell_type": "code",
   "execution_count": 70,
   "metadata": {
    "collapsed": false
   },
   "outputs": [
    {
     "name": "stderr",
     "output_type": "stream",
     "text": [
      "/Users/lukestarnes/anaconda/envs/Py3.5/lib/python3.5/site-packages/ipykernel/__main__.py:2: UserWarning:\n",
      "\n",
      "Boolean Series key will be reindexed to match DataFrame index.\n",
      "\n",
      "/Users/lukestarnes/anaconda/envs/Py3.5/lib/python3.5/site-packages/ipykernel/__main__.py:6: UserWarning:\n",
      "\n",
      "Boolean Series key will be reindexed to match DataFrame index.\n",
      "\n"
     ]
    }
   ],
   "source": [
    "book_full_dict = {}\n",
    "book_people_dict = {}\n",
    "book_places_dict = {}\n",
    "\n",
    "for ch in ch_list:\n",
    "    book_full_dict[ch] = list(book_df['Word'][book_df['Chapter'] == ch])\n",
    "    book_people_dict[ch] = list(book_people_df['Word'][book_people_df['Chapter'] == ch])\n",
    "    book_places_dict[ch] = list(book_places_df['Word'][book_places_df['Chapter'] == ch])"
   ]
  },
  {
   "cell_type": "code",
   "execution_count": 71,
   "metadata": {
    "collapsed": false
   },
   "outputs": [
    {
     "name": "stdout",
     "output_type": "stream",
     "text": [
      "done\n",
      "done\n",
      "done\n"
     ]
    }
   ],
   "source": [
    "matrix_cloud_maker(img_per_side = (6,6), image_inches = 3, dpi = 400, \n",
    "                   book_dict = book_full_dict, file_name = 'rafo3r_matrix_cloud.png')\n",
    "matrix_cloud_maker(img_per_side = (6,6), image_inches = 3, dpi = 400, \n",
    "                   book_dict = book_people_dict, file_name = 'rafo3r_people_matrix_cloud.png')\n",
    "matrix_cloud_maker(img_per_side = (6,6), image_inches = 3, dpi = 400, \n",
    "                   book_dict = book_places_dict, file_name = 'rafo3r_places_matrix_cloud.png')"
   ]
  },
  {
   "cell_type": "code",
   "execution_count": 22,
   "metadata": {
    "collapsed": false
   },
   "outputs": [],
   "source": [
    "bk_list = range(1,6)\n",
    "\n",
    "book_full_dict = {}\n",
    "book_people_dict = {}\n",
    "book_places_dict = {}\n",
    "\n",
    "for bk in bk_list:\n",
    "    book_full_dict[bk] = list(book_df['Word'][book_df['Book'] == bk])\n",
    "    book_people_dict[bk] = list(book_people_df['Word'][book_people_df['Book'] == bk])\n",
    "    book_places_dict[bk] = list(book_places_df['Word'][book_places_df['Book'] == bk])"
   ]
  },
  {
   "cell_type": "code",
   "execution_count": null,
   "metadata": {
    "collapsed": false
   },
   "outputs": [
    {
     "name": "stdout",
     "output_type": "stream",
     "text": [
      "12.025 18.05\n",
      "4810.0 7220.0\n",
      "2 3\n",
      "[<matplotlib.axes._subplots.AxesSubplot object at 0x11d8187f0>, <matplotlib.axes._subplots.AxesSubplot object at 0x11d585710>, <matplotlib.axes._subplots.AxesSubplot object at 0x1a0063b00>, <matplotlib.axes._subplots.AxesSubplot object at 0x111c205c0>, <matplotlib.axes._subplots.AxesSubplot object at 0x11c2cac18>]\n"
     ]
    }
   ],
   "source": [
    "matrix_cloud_maker(img_per_side = (2,3), image_inches = 6, dpi = 400, \n",
    "                   book_dict = book_full_dict, file_name = 'rafo3r_by_book_matrix_cloud.png')\n",
    "matrix_cloud_maker(img_per_side = (3,2), image_inches = 6, dpi = 400, \n",
    "                   book_dict = book_people_dict, file_name = 'rafo3r_by_book_people_matrix_cloud.png')\n",
    "matrix_cloud_maker(img_per_side = (3,2), image_inches = 6, dpi = 400, \n",
    "                   book_dict = book_places_dict, file_name = 'rafo3r_by_book_places_matrix_cloud.png')"
   ]
  },
  {
   "cell_type": "code",
   "execution_count": null,
   "metadata": {
    "collapsed": false
   },
   "outputs": [],
   "source": [
    "%matplotlib"
   ]
  },
  {
   "cell_type": "code",
   "execution_count": null,
   "metadata": {
    "collapsed": false
   },
   "outputs": [],
   "source": []
  },
  {
   "cell_type": "code",
   "execution_count": 1,
   "metadata": {
    "collapsed": false
   },
   "outputs": [
    {
     "ename": "NameError",
     "evalue": "name 'plt' is not defined",
     "output_type": "error",
     "traceback": [
      "\u001b[0;31m---------------------------------------------------------------------------\u001b[0m",
      "\u001b[0;31mNameError\u001b[0m                                 Traceback (most recent call last)",
      "\u001b[0;32m<ipython-input-1-b9f02096eba2>\u001b[0m in \u001b[0;36m<module>\u001b[0;34m()\u001b[0m\n\u001b[0;32m----> 1\u001b[0;31m \u001b[0mfig\u001b[0m \u001b[0;34m=\u001b[0m \u001b[0mplt\u001b[0m\u001b[0;34m.\u001b[0m\u001b[0mfigure\u001b[0m\u001b[0;34m(\u001b[0m\u001b[0mfigsize\u001b[0m\u001b[0;34m=\u001b[0m\u001b[0;34m(\u001b[0m\u001b[0;36m8\u001b[0m\u001b[0;34m,\u001b[0m\u001b[0;36m8\u001b[0m\u001b[0;34m)\u001b[0m\u001b[0;34m)\u001b[0m \u001b[0;31m# Notice the equal aspect ratio\u001b[0m\u001b[0;34m\u001b[0m\u001b[0m\n\u001b[0m\u001b[1;32m      2\u001b[0m \u001b[0max\u001b[0m \u001b[0;34m=\u001b[0m \u001b[0;34m[\u001b[0m\u001b[0mfig\u001b[0m\u001b[0;34m.\u001b[0m\u001b[0madd_subplot\u001b[0m\u001b[0;34m(\u001b[0m\u001b[0;36m2\u001b[0m\u001b[0;34m,\u001b[0m\u001b[0;36m2\u001b[0m\u001b[0;34m,\u001b[0m\u001b[0mi\u001b[0m\u001b[0;34m+\u001b[0m\u001b[0;36m1\u001b[0m\u001b[0;34m)\u001b[0m \u001b[0;32mfor\u001b[0m \u001b[0mi\u001b[0m \u001b[0;32min\u001b[0m \u001b[0mrange\u001b[0m\u001b[0;34m(\u001b[0m\u001b[0;36m4\u001b[0m\u001b[0;34m)\u001b[0m\u001b[0;34m]\u001b[0m\u001b[0;34m\u001b[0m\u001b[0m\n\u001b[1;32m      3\u001b[0m \u001b[0;34m\u001b[0m\u001b[0m\n\u001b[1;32m      4\u001b[0m \u001b[0;32mfor\u001b[0m \u001b[0ma\u001b[0m \u001b[0;32min\u001b[0m \u001b[0max\u001b[0m\u001b[0;34m:\u001b[0m\u001b[0;34m\u001b[0m\u001b[0m\n\u001b[1;32m      5\u001b[0m     \u001b[0ma\u001b[0m\u001b[0;34m.\u001b[0m\u001b[0mset_xticklabels\u001b[0m\u001b[0;34m(\u001b[0m\u001b[0;34m[\u001b[0m\u001b[0;34m]\u001b[0m\u001b[0;34m)\u001b[0m\u001b[0;34m\u001b[0m\u001b[0m\n",
      "\u001b[0;31mNameError\u001b[0m: name 'plt' is not defined"
     ]
    }
   ],
   "source": [
    "fig = plt.figure(figsize=(8,8)) # Notice the equal aspect ratio\n",
    "ax = [fig.add_subplot(2,2,i+1) for i in range(4)]\n",
    "\n",
    "for a in ax:\n",
    "    a.set_xticklabels([])\n",
    "    a.set_yticklabels([])\n",
    "    a.set_aspect('equal')\n",
    "    a.imshow(book_wordcloud.to_image())\n",
    "\n",
    "fig.subplots_adjust(wspace=0.025, hspace=0.05)\n",
    "plt.show()"
   ]
  },
  {
   "cell_type": "code",
   "execution_count": null,
   "metadata": {
    "collapsed": false
   },
   "outputs": [],
   "source": []
  },
  {
   "cell_type": "code",
   "execution_count": null,
   "metadata": {
    "collapsed": false
   },
   "outputs": [],
   "source": [
    "from wordcloud import random_color_func\n",
    "wordcloud = WordCloud(background_color=\"white\", width=1024, height=768,\n",
    "                      color_func=random_color_func, palette=0).generate(' '.join(rafo3r_people))\n",
    "#font_path=\"/Users/Emiel/Library/Fonts/FiraMono-Regular.ttf\",\n",
    "\n",
    "for i in range(0,7):\n",
    "    wordcloud.recolor(palette=i)\n",
    "    wordcloud.to_file('rafo3r_people_cloud' +str(i)+ '.png')"
   ]
  },
  {
   "cell_type": "code",
   "execution_count": null,
   "metadata": {
    "collapsed": false
   },
   "outputs": [],
   "source": [
    "from wordcloud import WordCloud, get_single_color_func\n",
    "\n",
    "places_list = list(places_json.keys()) + (list(chain.from_iterable(places_json.values())))\n",
    "\n",
    "rafo3r_full_list = list(rafo3r['Word'])\n",
    "rafo3r_people = list(rafo3r['Word'][rafo3r['Word'].isin(list(people_json.keys()))][rafo3r['Count']>1].apply(lambda x: x.title()))\n",
    "rafo3r_places = list(rafo3r['Word'][rafo3r['Word'].isin(places_list)][rafo3r['Count']>1].apply(lambda x: x.title().replace('_','')))\n",
    "\n",
    "\n",
    "rafo3r_wordcloud = WordCloud(width = 1280, height = 960, max_words = 300,min_font_size = 8,\n",
    "                             max_font_size = 100,color_func = get_single_color_func('darkred'),\n",
    "                             stopwords = rafo3r_reader.stopwords).generate(' '.join(rafo3r_full_list))#rafo3r_text)\n",
    "rafo3r_places_wordcloud = WordCloud(width = 1280, height = 960, max_words = 200,min_font_size = 8,\n",
    "                                    max_font_size = 150,color_func = get_single_color_func('lightsteelblue'),\n",
    "                                    stopwords = rafo3r_reader.stopwords).generate(' '.join(rafo3r_places))\n",
    "rafo3r_people_wordcloud = WordCloud(width = 1280, height = 960, max_words = 300,min_font_size = 8,\n",
    "                                     max_font_size = 100,color_func = get_single_color_func('darkred'),\n",
    "                                     stopwords = rafo3r_reader.stopwords).generate(' '.join(rafo3r_people))\n",
    "#regexp = rafo3r_reader.re_splitter\n",
    "full_cloud_file = \"rafo3r_full_cloud.png\"\n",
    "places_cloud_file = \"rafo3r_places_cloud.png\"\n",
    "people_cloud_file = \"rafo3r_people_cloud.png\"\n",
    "rafo3r_wordcloud.to_file(full_cloud_file)\n",
    "rafo3r_places_wordcloud.to_file(places_cloud_file)\n",
    "rafo3r_people_wordcloud.to_file(people_cloud_file)\n",
    "display(Image(full_cloud_file))\n",
    "display(Image(places_cloud_file))\n",
    "display(Image(people_cloud_file))"
   ]
  },
  {
   "cell_type": "code",
   "execution_count": null,
   "metadata": {
    "collapsed": false
   },
   "outputs": [],
   "source": [
    "def word_vs_range_df_maker(book_df, word_json, break_point = 10000, min_count_req = 400):\n",
    "    peak = len(book_df)\n",
    "    broken_list = list(range(0,peak,break_point))\n",
    "    broken_list.pop(0)#remove 0\n",
    "    if broken_list[-1] != peak: broken_list.append(peak)\n",
    "    plotter_df = pd.DataFrame()\n",
    "    for word_main in word_json:\n",
    "        these_words = word_json[word_main]\n",
    "        for i, v in enumerate(broken_list):\n",
    "            if i == 0:\n",
    "                v0 = 0\n",
    "            else:\n",
    "                v0 = broken_list[i-1]\n",
    "            plotter_df.loc[str(v),word_main] = _count_within_range(word_main,v0,v)\n",
    "            for word_sub in these_words:\n",
    "                plotter_df.loc[str(v),word_main] += _count_within_range(word_sub,v0,v)\n",
    "    plotter_df = plotter_df.drop(plotter_df.sum(axis=0)\n",
    "                                 [plotter_df.sum(axis=0)<min_count_req].index,axis=1)\n",
    "    return plotter_df\n",
    "#places_json = json.loads('{\"germany\":[\"german\"],\"austria\":[]}')\n",
    "#tester00 = word_vs_range_df_maker(rafo3r, places_json, 10000, 1)\n",
    "#tester01 = word_vs_range_df_maker(rafo3r, people_json, 10000, 1)"
   ]
  },
  {
   "cell_type": "code",
   "execution_count": null,
   "metadata": {
    "collapsed": false
   },
   "outputs": [],
   "source": [
    "rafo3r_viz = bv.book_viz(rafo3r, toc, p1, p2, places_json, people_json)\n",
    "rafo3r_viz.places_vs_chapters()"
   ]
  },
  {
   "cell_type": "code",
   "execution_count": null,
   "metadata": {
    "collapsed": false,
    "scrolled": true
   },
   "outputs": [],
   "source": [
    "#using pivot2, create a new dataframe with words (subset based on places from json) as columns and chapter (counts)\n",
    "#as rows.\n",
    "def word_vs_chapter_df_maker(book_pivot2, word_json, ch_list, min_count_req = 400):\n",
    "    bp2 = book_pivot2.copy()  #to my suprise, without this i was modifying the actual df (didnt think would happen in func)\n",
    "    \n",
    "    #######                      \n",
    "    #remove this once you fix bug in pivot maker\n",
    "    #print('P1',bp2.head())\n",
    "    bp2.index = bp2.index.droplevel(1)\n",
    "    bp2 = bp2[~bp2.index.duplicated(keep='first')]\n",
    "    #print('P2',bp2.head())\n",
    "    #######                      \n",
    "    \n",
    "    plotter_df = pd.DataFrame()\n",
    "    for word_main in word_json:\n",
    "        other_words = word_json[word_main]\n",
    "        s = 'Word == \"%s\"'%(word_main)\n",
    "        master_df = bp2.query(s).reset_index().set_index('Chapter')\n",
    "        master_df = master_df.reindex(ch_list).fillna(0)\n",
    "        master_df['Word'] = word_main\n",
    "        master_df.sort_index(inplace=True)\n",
    "        try:\n",
    "            del master_df['Book']\n",
    "        except:\n",
    "            #remove this try once you fix the issue that lets you remove the stuff at start.\n",
    "            #issue is that you remove book up there so you cant delete it here.\n",
    "            pass\n",
    "        for word_sub in other_words:\n",
    "            s = 'Word == \"%s\"'%(word_sub)\n",
    "            minor_df = bp2.query(s).reset_index().set_index('Chapter')\n",
    "            minor_df = minor_df.reindex(ch_list).fillna(0)\n",
    "            minor_df.sort_index(inplace=True)\n",
    "            try:\n",
    "                del minor_df['Book']\n",
    "            except:\n",
    "                #remove this try once you fix the issue that lets you remove the stuff at start.\n",
    "                #issue is that you remove book up there so you cant delete it here.\n",
    "                pass\n",
    "            master_df['Count'] = master_df['Count'] + minor_df['Count']\n",
    "        plotter_df = pd.concat([plotter_df,master_df])\n",
    "    plotter_df = plotter_df.reset_index()\n",
    "    plotter_df.set_index(['Chapter', 'Word'], inplace=True)\n",
    "    plotter_df = plotter_df.unstack(level=1) \n",
    "    plotter_df = plotter_df.drop(plotter_df.sum(axis=0)\n",
    "                                 [plotter_df.sum(axis=0)<min_count_req].index,axis=1)\n",
    "    plotter_df.columns = plotter_df.columns.droplevel(0)\n",
    "    return plotter_df"
   ]
  },
  {
   "cell_type": "code",
   "execution_count": null,
   "metadata": {
    "collapsed": false
   },
   "outputs": [],
   "source": [
    "Lukenum_chapters = max(book_pivot2.reset_index()['Chapter'])\n",
    "ch_list = list(range(1,num_chapters+1))"
   ]
  },
  {
   "cell_type": "code",
   "execution_count": null,
   "metadata": {
    "collapsed": false
   },
   "outputs": [],
   "source": []
  },
  {
   "cell_type": "code",
   "execution_count": null,
   "metadata": {
    "collapsed": false
   },
   "outputs": [],
   "source": [
    "#why does chapters total for poland to 1047.0, but range totals to 957.0\n",
    "#print(_count_within_range(word, v0, v))\n",
    "print (toc[-2:])\n",
    "print (len(rafo3r))\n",
    "print (rafo3r.query('Chapter == 33'))\n",
    "#bug: words marked ch. 1 go from pos 0 to 2490, but 2490 is *start* of Ch. 1...\n",
    "#and there are 33 chapter.  last 2...\n",
    "#Ch32         A BRIEF EPILOGUE      1023    570995\n",
    "#Ch33                AFTERWORD      1027    572270\n",
    "#but words marked ch 33 runs from 570996 to 572270... \n",
    "#length of book is 573408"
   ]
  },
  {
   "cell_type": "code",
   "execution_count": null,
   "metadata": {
    "collapsed": false
   },
   "outputs": [],
   "source": [
    "Starnesprint(places_vs_chapter_df.sum(axis=0).sort_values()[-5:])\n",
    "print(places_vs_range_df.sum(axis=0).sort_values()[-5:])\n",
    "print(people_vs_chapter_df.sum(axis=0).sort_values()[-5:])\n",
    "print(people_vs_range_df.sum(axis=0).sort_values()[-5:])\n",
    "#why are counts not the same between chapter split and 10k split?"
   ]
  },
  {
   "cell_type": "code",
   "execution_count": null,
   "metadata": {
    "collapsed": false
   },
   "outputs": [],
   "source": [
    "def _col_clean(name):\n",
    "    return name.replace('_',' ').title()"
   ]
  },
  {
   "cell_type": "code",
   "execution_count": null,
   "metadata": {
    "collapsed": false,
    "scrolled": true
   },
   "outputs": [],
   "source": [
    "Luke Starnesc = 256 / len(places_vs_chapter_df.columns)\n",
    "new_col_names = list(map(_col_clean, list(places_vs_chapter_df.columns)))\n",
    "\n",
    "py.iplot(dict(data=[{\n",
    "    'x': places_vs_chapter_df.index,\n",
    "    'y': places_vs_chapter_df[col],\n",
    "    'name': new_col_names[i],\n",
    "    'fill' : 'tonexty',\n",
    "    'line' : dict(color = ('rgb(%i, %i, 100)'%(int(c * i),int(255 - c * i)))),\n",
    "}  for i, col in enumerate(places_vs_chapter_df.columns)], layout=dict(\n",
    "            title = 'RaFo3R Places vs Chapter',\n",
    "            dragmode = 'zoom',\n",
    "            xaxis = dict(title = 'Chapter', tickvals = list(range(2,36,2)), tickmode = 'array', \n",
    "                         rangeslider = dict(thickness=0.2)),\n",
    "            yaxis = dict(title = 'Word Count'))), filename='plotly/places_vs_chapter')"
   ]
  },
  {
   "cell_type": "code",
   "execution_count": null,
   "metadata": {
    "collapsed": false
   },
   "outputs": [],
   "source": [
    "Luke Starnesc = 256 / len(people_vs_chapter_df.columns)\n",
    "new_col_names = list(map(_col_clean, list(people_vs_chapter_df.columns)))\n",
    "\n",
    "py.iplot(dict(data=[{\n",
    "    'x': people_vs_chapter_df.index,\n",
    "    'y': people_vs_chapter_df[col],\n",
    "    'name': new_col_names[i],\n",
    "    'fill' : 'tonexty',\n",
    "    'line' : dict(color = ('rgb(%i, %i, 100)'%(int(c * i),int(255 - c * i)))),\n",
    "}  for i, col in enumerate(people_vs_chapter_df.columns)], layout=dict(\n",
    "            title = 'RaFo3R People vs Chapter',\n",
    "            dragmode = 'zoom',\n",
    "            xaxis = dict(title = 'Chapter', tickvals = list(range(2,36,2)), tickmode = 'array', \n",
    "                         rangeslider = dict(thickness=0.2)),\n",
    "            yaxis = dict(title = 'Word Count'))), filename='plotly/people_vs_chapter')"
   ]
  },
  {
   "cell_type": "code",
   "execution_count": null,
   "metadata": {
    "collapsed": false
   },
   "outputs": [],
   "source": [
    "Luke Starnesc = 256 / len(places_vs_range_df.columns)\n",
    "new_col_names = list(map(_col_clean, list(places_vs_range_df.columns)))\n",
    "x.insert(0,'0')\n",
    "\n",
    "py.iplot(dict(data=[{\n",
    "    'x': list(places_vs_range_df.index).insert(0,'0'),\n",
    "    'y': places_vs_range_df[col],\n",
    "    'name': new_col_names[i],\n",
    "    'fill' : 'tonexty',\n",
    "    'line' : dict(color = ('rgb(%i, %i, 100)'%(int(c * i),int(255 - c * i)))),\n",
    "}  for i, col in enumerate(places_vs_range_df.columns)], layout=dict(\n",
    "            title = 'RaFo3R Places vs 10k Words',\n",
    "            xaxis = dict(title = 'Per 10k Words', rangeslider = dict(thickness=0.20)),\n",
    "            yaxis = dict(title = 'Word Count'))), filename='plotly/places_vs_range')"
   ]
  },
  {
   "cell_type": "code",
   "execution_count": null,
   "metadata": {
    "collapsed": false
   },
   "outputs": [],
   "source": [
    "Luke Starnesc = 256 / len(people_vs_range_df.columns)\n",
    "new_col_names = list(map(_col_clean, list(people_vs_range_df.columns)))\n",
    "\n",
    "py.iplot(dict(data=[{\n",
    "    'x': people_vs_range_df.index,\n",
    "    'y': people_vs_range_df[col],\n",
    "    'name': new_col_names[i],\n",
    "    'fill' : 'tonexty',\n",
    "    'line' : dict(color = ('rgb(%i, %i, 100)'%(int(c * i),int(255 - c * i)))),\n",
    "}  for i, col in enumerate(people_vs_range_df.columns)], layout=dict(\n",
    "            title = 'RaFo3R People vs 10k Words',\n",
    "            #dragmode = 'zoom',\n",
    "            xaxis = dict(title = 'Per 10k Words', rangeslider = dict(thickness=0.20)),\n",
    "            yaxis = dict(title = 'Word Count'))), filename='plotly/people_vs_range')"
   ]
  },
  {
   "cell_type": "code",
   "execution_count": null,
   "metadata": {
    "collapsed": true
   },
   "outputs": [],
   "source": [
    "Luke Starnes#table - top 5 people by chapter"
   ]
  },
  {
   "cell_type": "code",
   "execution_count": null,
   "metadata": {
    "collapsed": false
   },
   "outputs": [],
   "source": []
  },
  {
   "cell_type": "code",
   "execution_count": null,
   "metadata": {
    "collapsed": false
   },
   "outputs": [],
   "source": []
  },
  {
   "cell_type": "code",
   "execution_count": null,
   "metadata": {
    "collapsed": false
   },
   "outputs": [],
   "source": []
  },
  {
   "cell_type": "code",
   "execution_count": null,
   "metadata": {
    "collapsed": false
   },
   "outputs": [],
   "source": [
    "grouped = rafo3r.groupby('Word')\n",
    "grouped.describe()\n",
    "#display(rafo3r.head())"
   ]
  },
  {
   "cell_type": "code",
   "execution_count": null,
   "metadata": {
    "collapsed": false
   },
   "outputs": [],
   "source": []
  },
  {
   "cell_type": "code",
   "execution_count": null,
   "metadata": {
    "collapsed": false
   },
   "outputs": [],
   "source": [
    "rafo3r['Position'] = rafo3r.index\n",
    "\n",
    "occurances = rafo3r.groupby('Word').size()\n",
    "mega_words = occurances.index[occurances >= 1000]\n",
    "rafo3r.index = rafo3r['Word']\n",
    "#sw = rafo3r.ix['Stop Word']\n",
    "#sw.head()"
   ]
  },
  {
   "cell_type": "code",
   "execution_count": null,
   "metadata": {
    "collapsed": false
   },
   "outputs": [],
   "source": [
    "def start_loc(x):\n",
    "    return int(100 * min(x) / len(rafo3r))\n",
    "def end_loc(x):\n",
    "    return int(100 * max(x) / len(rafo3r))\n",
    "rafo3r_pt = rafo3r[rafo3r['Stop Word'] == False].pivot_table(values='Position', \n",
    "            aggfunc=[len,start_loc,end_loc], index='Words')\n",
    "rafo3r_pt.sort_values('len',ascending=False,inplace=True)\n",
    "rafo3r_pt.rename(columns={'len': 'Count'}, inplace=True)\n",
    "display(rafo3r_pt[:10])\n",
    "\n",
    "rafo3r_pt2 = rafo3r[rafo3r['Stop Word'] == False].pivot_table(values='Position', \n",
    "             aggfunc=[len], index=['Word','Book','Chapter'])\n",
    "rafo3r_pt2.sort_values('len',ascending=False,inplace=True)\n",
    "\n",
    "display(rafo3r_pt2[:10])"
   ]
  }
 ],
 "metadata": {
  "kernelspec": {
   "display_name": "Python 3",
   "language": "python",
   "name": "python3"
  },
  "language_info": {
   "codemirror_mode": {
    "name": "ipython",
    "version": 3
   },
   "file_extension": ".py",
   "mimetype": "text/x-python",
   "name": "python",
   "nbconvert_exporter": "python",
   "pygments_lexer": "ipython3",
   "version": "3.5.1"
  }
 },
 "nbformat": 4,
 "nbformat_minor": 0
}
