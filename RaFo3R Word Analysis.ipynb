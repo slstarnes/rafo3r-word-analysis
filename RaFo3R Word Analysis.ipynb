{
 "cells": [
  {
   "cell_type": "markdown",
   "metadata": {},
   "source": [
    "# The Rise and Fall of the Third Reich\n",
    "# A History of Nazi Germany \n",
    "# by William L. Shirer\n",
    "## A Textual Analysis"
   ]
  },
  {
   "cell_type": "markdown",
   "metadata": {},
   "source": [
    "Read in file."
   ]
  },
  {
   "cell_type": "code",
   "execution_count": 29,
   "metadata": {
    "collapsed": false
   },
   "outputs": [],
   "source": [
    "import pandas as pd\n",
    "import book_reader as br\n",
    "import numpy as np\n",
    "from IPython.display import display\n",
    "rafo3r_text = open('rafo3r.txt', 'r', encoding='utf-8').read()\n",
    "generate_book_df = False\n",
    "generate_toc_df = False\n",
    "rafo3r_reader = br.book_reader('rafo3r', generate_book_df, generate_toc_df)\n",
    "book_file = 'rafo3r.txt'\n",
    "h5_file = 'rafo3r.h5'\n",
    "rafo3r, toc = rafo3r_reader.main(book_file, h5_file)"
   ]
  },
  {
   "cell_type": "code",
   "execution_count": 6,
   "metadata": {
    "collapsed": true
   },
   "outputs": [],
   "source": [
    "import plotly.plotly as py\n",
    "import plotly.graph_objs as go\n",
    "py.sign_in('yg2bsm', '8e3m3cer5e')"
   ]
  },
  {
   "cell_type": "markdown",
   "metadata": {},
   "source": [
    "Import/setup Spacy.\n",
    "\n",
    "Note: You must install spacy and download the 'en' model by running 'python -m spacy.en.download'. The download command fetches and installs about 500 MB of data which it installs within the spacy package directory."
   ]
  },
  {
   "cell_type": "code",
   "execution_count": 2,
   "metadata": {
    "collapsed": false
   },
   "outputs": [],
   "source": [
    "import spacy\n",
    "from spacy.attrs import ORTH\n",
    "\n",
    "# Load English tokenizer, tagger, parser, NER and word vectors\n",
    "nlp = spacy.load('en')"
   ]
  },
  {
   "cell_type": "code",
   "execution_count": 3,
   "metadata": {
    "collapsed": false
   },
   "outputs": [],
   "source": [
    "book = nlp(rafo3r) #this creates a spacy.tokens.doc.Doc object"
   ]
  },
  {
   "cell_type": "code",
   "execution_count": null,
   "metadata": {
    "collapsed": false
   },
   "outputs": [],
   "source": [
    "book_sents = book.sents\n",
    "for i, s in enumerate(book_sents):\n",
    "    if i > 1000: break\n",
    "    #print (s)\n",
    "print (book.ents)\n",
    "ents = list(book.ents)\n",
    "words = list(book)"
   ]
  },
  {
   "cell_type": "code",
   "execution_count": 28,
   "metadata": {
    "collapsed": false
   },
   "outputs": [
    {
     "data": {
      "text/html": [
       "<iframe id=\"igraph\" scrolling=\"no\" style=\"border:none;\" seamless=\"seamless\" src=\"https://plot.ly/~yg2bsm/9.embed\" height=\"525px\" width=\"100%\"></iframe>"
      ],
      "text/plain": [
       "<plotly.tools.PlotlyDisplay object>"
      ]
     },
     "execution_count": 28,
     "metadata": {},
     "output_type": "execute_result"
    }
   ],
   "source": [
    "#%matplotlib inline\n",
    "germany = rafo3r[rafo3r['Words'] == 'germany']\n",
    "#c,bins = np.histogram(germany)\n",
    "#germany.hist(bins=bins)\n",
    "data = [go.Scatter(x= germany.index,y=germany['Running Occurance'],name='Germany')]\n",
    "#data2 = [go.Histogram(x= c,#germany['Running Occurance'],\n",
    "#                      name='Germany')]\n",
    "layout = go.Layout(title='scatter plot with pandas',\n",
    "                   yaxis=dict(title='random distribution'), \n",
    "                   xaxis=dict(title='linspace'))\n",
    "py.iplot(data, filename='pandas/basic-line-plot')#'basic-histogram'"
   ]
  },
  {
   "cell_type": "code",
   "execution_count": 82,
   "metadata": {
    "collapsed": false
   },
   "outputs": [],
   "source": [
    "grouped = rafo3r.groupby('Words')\n",
    "#grouped.describe()\n",
    "#display(rafo3r.head())"
   ]
  },
  {
   "cell_type": "code",
   "execution_count": 41,
   "metadata": {
    "collapsed": false
   },
   "outputs": [
    {
     "data": {
      "text/plain": [
       "43438     4219\n",
       "26945     4219\n",
       "182840    4219\n",
       "202914    4219\n",
       "587368    4219\n",
       "546345    4219\n",
       "244596    4219\n",
       "26925     4219\n",
       "59492     4219\n",
       "341261    4219\n",
       "Name: Occurance, dtype: int64"
      ]
     },
     "execution_count": 41,
     "metadata": {},
     "output_type": "execute_result"
    }
   ],
   "source": [
    "rafo3r['Occurance'].sort_values()[-10:] # top 10 values"
   ]
  },
  {
   "cell_type": "code",
   "execution_count": 55,
   "metadata": {
    "collapsed": false
   },
   "outputs": [],
   "source": [
    "rafo3r['Position'] = rafo3r.index\n",
    "\n",
    "occurances = rafo3r.groupby('Words').size()\n",
    "mega_words = occurances.index[occurances >= 1000]\n",
    "rafo3r.index = rafo3r['Words']\n",
    "#sw = rafo3r.ix['Stop Word']\n",
    "#sw.head()"
   ]
  },
  {
   "cell_type": "code",
   "execution_count": 83,
   "metadata": {
    "collapsed": false
   },
   "outputs": [
    {
     "data": {
      "text/html": [
       "<div>\n",
       "<table border=\"1\" class=\"dataframe\">\n",
       "  <thead>\n",
       "    <tr style=\"text-align: right;\">\n",
       "      <th></th>\n",
       "      <th>Words</th>\n",
       "      <th>Stop Word</th>\n",
       "      <th>Occurance</th>\n",
       "      <th>Running Occurance</th>\n",
       "      <th>Position</th>\n",
       "    </tr>\n",
       "    <tr>\n",
       "      <th>Words</th>\n",
       "      <th></th>\n",
       "      <th></th>\n",
       "      <th></th>\n",
       "      <th></th>\n",
       "      <th></th>\n",
       "    </tr>\n",
       "  </thead>\n",
       "  <tbody>\n",
       "    <tr>\n",
       "      <th>william</th>\n",
       "      <td>william</td>\n",
       "      <td>False</td>\n",
       "      <td>12</td>\n",
       "      <td>1</td>\n",
       "      <td>0</td>\n",
       "    </tr>\n",
       "  </tbody>\n",
       "</table>\n",
       "</div>"
      ],
      "text/plain": [
       "           Words Stop Word  Occurance  Running Occurance  Position\n",
       "Words                                                             \n",
       "william  william     False         12                  1         0"
      ]
     },
     "execution_count": 83,
     "metadata": {},
     "output_type": "execute_result"
    }
   ],
   "source": [
    "rafo3r.head(1)"
   ]
  },
  {
   "cell_type": "code",
   "execution_count": 90,
   "metadata": {
    "collapsed": false
   },
   "outputs": [
    {
     "data": {
      "text/html": [
       "<div>\n",
       "<table border=\"1\" class=\"dataframe\">\n",
       "  <thead>\n",
       "    <tr style=\"text-align: right;\">\n",
       "      <th></th>\n",
       "      <th>len</th>\n",
       "      <th>start_loc</th>\n",
       "      <th>end_loc</th>\n",
       "    </tr>\n",
       "    <tr>\n",
       "      <th>Words</th>\n",
       "      <th></th>\n",
       "      <th></th>\n",
       "      <th></th>\n",
       "    </tr>\n",
       "  </thead>\n",
       "  <tbody>\n",
       "    <tr>\n",
       "      <th>hitler</th>\n",
       "      <td>4219</td>\n",
       "      <td>0</td>\n",
       "      <td>99</td>\n",
       "    </tr>\n",
       "    <tr>\n",
       "      <th>german</th>\n",
       "      <td>2759</td>\n",
       "      <td>0</td>\n",
       "      <td>99</td>\n",
       "    </tr>\n",
       "    <tr>\n",
       "      <th>germany</th>\n",
       "      <td>1713</td>\n",
       "      <td>0</td>\n",
       "      <td>99</td>\n",
       "    </tr>\n",
       "    <tr>\n",
       "      <th>war</th>\n",
       "      <td>1591</td>\n",
       "      <td>0</td>\n",
       "      <td>99</td>\n",
       "    </tr>\n",
       "    <tr>\n",
       "      <th>army</th>\n",
       "      <td>1224</td>\n",
       "      <td>0</td>\n",
       "      <td>99</td>\n",
       "    </tr>\n",
       "    <tr>\n",
       "      <th>fuehrer</th>\n",
       "      <td>1076</td>\n",
       "      <td>0</td>\n",
       "      <td>99</td>\n",
       "    </tr>\n",
       "    <tr>\n",
       "      <th>british</th>\n",
       "      <td>1052</td>\n",
       "      <td>2</td>\n",
       "      <td>99</td>\n",
       "    </tr>\n",
       "    <tr>\n",
       "      <th>time</th>\n",
       "      <td>1034</td>\n",
       "      <td>0</td>\n",
       "      <td>99</td>\n",
       "    </tr>\n",
       "    <tr>\n",
       "      <th>berlin</th>\n",
       "      <td>1027</td>\n",
       "      <td>0</td>\n",
       "      <td>99</td>\n",
       "    </tr>\n",
       "    <tr>\n",
       "      <th>government</th>\n",
       "      <td>977</td>\n",
       "      <td>0</td>\n",
       "      <td>99</td>\n",
       "    </tr>\n",
       "  </tbody>\n",
       "</table>\n",
       "</div>"
      ],
      "text/plain": [
       "             len  start_loc  end_loc\n",
       "Words                               \n",
       "hitler      4219          0       99\n",
       "german      2759          0       99\n",
       "germany     1713          0       99\n",
       "war         1591          0       99\n",
       "army        1224          0       99\n",
       "fuehrer     1076          0       99\n",
       "british     1052          2       99\n",
       "time        1034          0       99\n",
       "berlin      1027          0       99\n",
       "government   977          0       99"
      ]
     },
     "metadata": {},
     "output_type": "display_data"
    }
   ],
   "source": [
    "def start_loc(x):\n",
    "    return int(100 * min(x) / len(rafo3r))\n",
    "def end_loc(x):\n",
    "    return int(100 * max(x) / len(rafo3r))\n",
    "rafo3r_pt = rafo3r[rafo3r['Stop Word'] == False].pivot_table(values='Position', \n",
    "            aggfunc=[len,start_loc,end_loc], index='Words')\n",
    "rafo3r_pt.sort_values('len',ascending=False,inplace=True)\n",
    "#this will be more useful once you add chapters\n",
    "display(rafo3r_pt[:10])"
   ]
  },
  {
   "cell_type": "code",
   "execution_count": 95,
   "metadata": {
    "collapsed": false
   },
   "outputs": [
    {
     "data": {
      "text/plain": [
       "['B1',\n",
       " 'Ch1',\n",
       " 'Ch2',\n",
       " 'Ch3',\n",
       " 'Ch4',\n",
       " 'B2',\n",
       " 'Ch5',\n",
       " 'Ch6',\n",
       " 'Ch7',\n",
       " 'Ch8',\n",
       " 'B3',\n",
       " 'Ch9',\n",
       " 'Ch10',\n",
       " 'Ch11',\n",
       " 'Ch12',\n",
       " 'Ch13',\n",
       " 'Ch14',\n",
       " 'Ch15',\n",
       " 'Ch16',\n",
       " 'Ch17',\n",
       " 'B4',\n",
       " 'Ch18',\n",
       " 'Ch19',\n",
       " 'Ch20',\n",
       " 'Ch21',\n",
       " 'Ch22',\n",
       " 'Ch23',\n",
       " 'Ch24',\n",
       " 'Ch25',\n",
       " 'Ch26',\n",
       " 'B5',\n",
       " 'Ch27',\n",
       " 'Ch28',\n",
       " 'Ch29',\n",
       " 'B6',\n",
       " 'Ch30',\n",
       " 'Ch31',\n",
       " 'Ch32',\n",
       " 'Ch33']"
      ]
     },
     "metadata": {},
     "output_type": "display_data"
    }
   ],
   "source": [
    "display (list(toc.index))"
   ]
  },
  {
   "cell_type": "code",
   "execution_count": null,
   "metadata": {
    "collapsed": false,
    "scrolled": true
   },
   "outputs": [],
   "source": []
  },
  {
   "cell_type": "code",
   "execution_count": null,
   "metadata": {
    "collapsed": false
   },
   "outputs": [],
   "source": []
  },
  {
   "cell_type": "code",
   "execution_count": null,
   "metadata": {
    "collapsed": true
   },
   "outputs": [],
   "source": []
  }
 ],
 "metadata": {
  "kernelspec": {
   "display_name": "Python 3",
   "language": "python",
   "name": "python3"
  },
  "language_info": {
   "codemirror_mode": {
    "name": "ipython",
    "version": 3
   },
   "file_extension": ".py",
   "mimetype": "text/x-python",
   "name": "python",
   "nbconvert_exporter": "python",
   "pygments_lexer": "ipython3",
   "version": "3.5.1"
  }
 },
 "nbformat": 4,
 "nbformat_minor": 0
}
