{
 "cells": [
  {
   "cell_type": "markdown",
   "metadata": {},
   "source": [
    "# The Rise and Fall of the Third Reich\n",
    "# A History of Nazi Germany \n",
    "# by William L. Shirer\n",
    "## A Textual Analysis"
   ]
  },
  {
   "cell_type": "markdown",
   "metadata": {},
   "source": [
    "Read in file."
   ]
  },
  {
   "cell_type": "code",
   "execution_count": 9,
   "metadata": {
    "collapsed": false
   },
   "outputs": [
    {
     "name": "stdout",
     "output_type": "stream",
     "text": [
      "Starting\n",
      "Book processed\n",
      "TOC processed\n",
      "Chapter Markers made\n",
      "Pivots processed\n"
     ]
    }
   ],
   "source": [
    "import pandas as pd\n",
    "import book_reader as br\n",
    "import book_viz as bv\n",
    "import numpy as np\n",
    "from IPython.display import display\n",
    "rafo3r_text = open('rafo3r.txt', 'r', encoding='utf-8').read()\n",
    "generate_book_df = False\n",
    "generate_toc_df = False\n",
    "generate_pivots = False\n",
    "rafo3r_reader = br.book_reader('rafo3r', generate_book_df, generate_toc_df, generate_pivots)\n",
    "book_file = 'rafo3r.txt'\n",
    "h5_file = 'rafo3r.h5'\n",
    "rafo3r, toc, book_pivot1, book_pivot2 = rafo3r_reader.main(book_file, h5_file)"
   ]
  },
  {
   "cell_type": "code",
   "execution_count": 3,
   "metadata": {
    "collapsed": true
   },
   "outputs": [],
   "source": [
    "import plotly.plotly as py\n",
    "import plotly.graph_objs as go\n",
    "py.sign_in('yg2bsm', '8e3m3cer5e')"
   ]
  },
  {
   "cell_type": "code",
   "execution_count": 6,
   "metadata": {
    "collapsed": false
   },
   "outputs": [],
   "source": [
    "import json\n",
    "import pprint\n",
    "import os\n",
    "places = open(os.getcwd() + os.sep + 'places.json', 'r').read()\n",
    "places_json = json.loads(places)\n",
    "people = open(os.getcwd() + os.sep + 'people.json', 'r').read()\n",
    "people_json = json.loads(people)"
   ]
  },
  {
   "cell_type": "code",
   "execution_count": 3,
   "metadata": {
    "collapsed": false
   },
   "outputs": [
    {
     "name": "stdout",
     "output_type": "stream",
     "text": [
      "VIZ\n"
     ]
    }
   ],
   "source": [
    "rafo3r_viz = bv.book_viz(rafo3r, toc, p1, p2, places_json, people_json)\n",
    "rafo3r_viz.places_vs_chapters()"
   ]
  },
  {
   "cell_type": "code",
   "execution_count": 7,
   "metadata": {
    "collapsed": false
   },
   "outputs": [],
   "source": [
    "#rafo3r_viz.plotter_df.iplot(fill=True, filename='cuflinks/filled-area')"
   ]
  },
  {
   "cell_type": "code",
   "execution_count": 10,
   "metadata": {
    "collapsed": false,
    "scrolled": true
   },
   "outputs": [],
   "source": [
    "num_chapters = max(book_pivot2.reset_index()['Chapter'])\n",
    "ch_list = list(range(1,num_chapters+1))"
   ]
  },
  {
   "cell_type": "code",
   "execution_count": 14,
   "metadata": {
    "collapsed": false,
    "scrolled": true
   },
   "outputs": [],
   "source": [
    "plotter_df = pd.DataFrame()\n",
    "#places = json.loads(\"\"\"{\"germany\":[\"german\"],\"france\":[\"french\"]}\"\"\")\n",
    "for place_main in places_json:\n",
    "    these_places = places_json[place_main]\n",
    "    s = 'Word == \"%s\"'%(place_main)\n",
    "    master_df = book_pivot2.query(s).reset_index().set_index('Chapter')\n",
    "    master_df = master_df.reindex(ch_list).fillna(0)\n",
    "    master_df['Word'] = place_main\n",
    "    master_df.sort_index(inplace=True)\n",
    "    #del master_df['Word']\n",
    "    del master_df['Book']\n",
    "    for place_sub in these_places:\n",
    "        s = 'Word == \"%s\"'%(place_sub)\n",
    "        minor_df = book_pivot2.query(s).reset_index().set_index('Chapter')\n",
    "        minor_df = minor_df.reindex(ch_list).fillna(0)\n",
    "        minor_df.sort_index(inplace=True)\n",
    "        #del minor_df['Word']\n",
    "        del minor_df['Book']\n",
    "        master_df['Count'] = master_df['Count'] + minor_df['Count']\n",
    "        #need to fill in chapters that are not present with 0s. As of now if you try to ass\n",
    "        #a chapter that exists with one that doenst you get a NaN\n",
    "    plotter_df = pd.concat([plotter_df,master_df])\n",
    "#display(plotter_df)\n",
    "plotter_df = plotter_df.reset_index()\n",
    "plotter_df.set_index(['Chapter', 'Word'], inplace=True)\n",
    "plotter_df = plotter_df.unstack(level=1)\n",
    "### TRY GROUP BY"
   ]
  },
  {
   "cell_type": "code",
   "execution_count": 115,
   "metadata": {
    "collapsed": false
   },
   "outputs": [],
   "source": [
    "import cufflinks as cf\n",
    "init_notebook_mode()"
   ]
  },
  {
   "cell_type": "code",
   "execution_count": 116,
   "metadata": {
    "collapsed": false
   },
   "outputs": [
    {
     "data": {
      "text/plain": [
       "['polar', 'white', 'solar', 'ggplot', 'pearl', 'space']"
      ]
     },
     "execution_count": 116,
     "metadata": {},
     "output_type": "execute_result"
    }
   ],
   "source": [
    "cf.getThemes()"
   ]
  },
  {
   "cell_type": "code",
   "execution_count": 15,
   "metadata": {
    "collapsed": false
   },
   "outputs": [
    {
     "data": {
      "text/html": [
       "<div>\n",
       "<table border=\"1\" class=\"dataframe\">\n",
       "  <thead>\n",
       "    <tr>\n",
       "      <th></th>\n",
       "      <th colspan=\"16\" halign=\"left\">Count</th>\n",
       "    </tr>\n",
       "    <tr>\n",
       "      <th>Word</th>\n",
       "      <th>austria</th>\n",
       "      <th>belgium</th>\n",
       "      <th>britain</th>\n",
       "      <th>czechoslovakia</th>\n",
       "      <th>denmark</th>\n",
       "      <th>france</th>\n",
       "      <th>germany</th>\n",
       "      <th>hungary</th>\n",
       "      <th>italy</th>\n",
       "      <th>japan</th>\n",
       "      <th>norway</th>\n",
       "      <th>poland</th>\n",
       "      <th>russia</th>\n",
       "      <th>slovakia</th>\n",
       "      <th>sweeden</th>\n",
       "      <th>united_states</th>\n",
       "    </tr>\n",
       "    <tr>\n",
       "      <th>Chapter</th>\n",
       "      <th></th>\n",
       "      <th></th>\n",
       "      <th></th>\n",
       "      <th></th>\n",
       "      <th></th>\n",
       "      <th></th>\n",
       "      <th></th>\n",
       "      <th></th>\n",
       "      <th></th>\n",
       "      <th></th>\n",
       "      <th></th>\n",
       "      <th></th>\n",
       "      <th></th>\n",
       "      <th></th>\n",
       "      <th></th>\n",
       "      <th></th>\n",
       "    </tr>\n",
       "  </thead>\n",
       "  <tbody>\n",
       "    <tr>\n",
       "      <th>1</th>\n",
       "      <td>3.0</td>\n",
       "      <td>0.0</td>\n",
       "      <td>2.0</td>\n",
       "      <td>2.0</td>\n",
       "      <td>1.0</td>\n",
       "      <td>3.0</td>\n",
       "      <td>33.0</td>\n",
       "      <td>0.0</td>\n",
       "      <td>0.0</td>\n",
       "      <td>0.0</td>\n",
       "      <td>1.0</td>\n",
       "      <td>4.0</td>\n",
       "      <td>5.0</td>\n",
       "      <td>0.0</td>\n",
       "      <td>0.0</td>\n",
       "      <td>2.0</td>\n",
       "    </tr>\n",
       "    <tr>\n",
       "      <th>2</th>\n",
       "      <td>104.0</td>\n",
       "      <td>0.0</td>\n",
       "      <td>2.0</td>\n",
       "      <td>9.0</td>\n",
       "      <td>0.0</td>\n",
       "      <td>2.0</td>\n",
       "      <td>76.0</td>\n",
       "      <td>0.0</td>\n",
       "      <td>0.0</td>\n",
       "      <td>0.0</td>\n",
       "      <td>0.0</td>\n",
       "      <td>0.0</td>\n",
       "      <td>1.0</td>\n",
       "      <td>0.0</td>\n",
       "      <td>0.0</td>\n",
       "      <td>0.0</td>\n",
       "    </tr>\n",
       "    <tr>\n",
       "      <th>3</th>\n",
       "      <td>11.0</td>\n",
       "      <td>0.0</td>\n",
       "      <td>7.0</td>\n",
       "      <td>0.0</td>\n",
       "      <td>1.0</td>\n",
       "      <td>2.0</td>\n",
       "      <td>159.0</td>\n",
       "      <td>0.0</td>\n",
       "      <td>1.0</td>\n",
       "      <td>0.0</td>\n",
       "      <td>0.0</td>\n",
       "      <td>2.0</td>\n",
       "      <td>11.0</td>\n",
       "      <td>0.0</td>\n",
       "      <td>0.0</td>\n",
       "      <td>6.0</td>\n",
       "    </tr>\n",
       "    <tr>\n",
       "      <th>4</th>\n",
       "      <td>5.0</td>\n",
       "      <td>1.0</td>\n",
       "      <td>3.0</td>\n",
       "      <td>0.0</td>\n",
       "      <td>1.0</td>\n",
       "      <td>15.0</td>\n",
       "      <td>166.0</td>\n",
       "      <td>1.0</td>\n",
       "      <td>0.0</td>\n",
       "      <td>0.0</td>\n",
       "      <td>0.0</td>\n",
       "      <td>4.0</td>\n",
       "      <td>13.0</td>\n",
       "      <td>0.0</td>\n",
       "      <td>0.0</td>\n",
       "      <td>0.0</td>\n",
       "    </tr>\n",
       "    <tr>\n",
       "      <th>5</th>\n",
       "      <td>17.0</td>\n",
       "      <td>0.0</td>\n",
       "      <td>15.0</td>\n",
       "      <td>3.0</td>\n",
       "      <td>1.0</td>\n",
       "      <td>29.0</td>\n",
       "      <td>246.0</td>\n",
       "      <td>0.0</td>\n",
       "      <td>1.0</td>\n",
       "      <td>0.0</td>\n",
       "      <td>0.0</td>\n",
       "      <td>1.0</td>\n",
       "      <td>13.0</td>\n",
       "      <td>0.0</td>\n",
       "      <td>0.0</td>\n",
       "      <td>2.0</td>\n",
       "    </tr>\n",
       "  </tbody>\n",
       "</table>\n",
       "</div>"
      ],
      "text/plain": [
       "          Count                                                                \\\n",
       "Word    austria belgium britain czechoslovakia denmark france germany hungary   \n",
       "Chapter                                                                         \n",
       "1           3.0     0.0     2.0            2.0     1.0    3.0    33.0     0.0   \n",
       "2         104.0     0.0     2.0            9.0     0.0    2.0    76.0     0.0   \n",
       "3          11.0     0.0     7.0            0.0     1.0    2.0   159.0     0.0   \n",
       "4           5.0     1.0     3.0            0.0     1.0   15.0   166.0     1.0   \n",
       "5          17.0     0.0    15.0            3.0     1.0   29.0   246.0     0.0   \n",
       "\n",
       "                                                                         \n",
       "Word    italy japan norway poland russia slovakia sweeden united_states  \n",
       "Chapter                                                                  \n",
       "1         0.0   0.0    1.0    4.0    5.0      0.0     0.0           2.0  \n",
       "2         0.0   0.0    0.0    0.0    1.0      0.0     0.0           0.0  \n",
       "3         1.0   0.0    0.0    2.0   11.0      0.0     0.0           6.0  \n",
       "4         0.0   0.0    0.0    4.0   13.0      0.0     0.0           0.0  \n",
       "5         1.0   0.0    0.0    1.0   13.0      0.0     0.0           2.0  "
      ]
     },
     "execution_count": 15,
     "metadata": {},
     "output_type": "execute_result"
    }
   ],
   "source": [
    "#df = cf.datagen.lines()\n",
    "plotter_df.head()"
   ]
  },
  {
   "cell_type": "code",
   "execution_count": 17,
   "metadata": {
    "collapsed": false
   },
   "outputs": [
    {
     "data": {
      "text/html": [
       "<iframe id=\"igraph\" scrolling=\"no\" style=\"border:none;\" seamless=\"seamless\" src=\"https://plot.ly/~yg2bsm/25.embed\" height=\"587px\" width=\"1116px\"></iframe>"
      ],
      "text/plain": [
       "<plotly.tools.PlotlyDisplay object>"
      ]
     },
     "execution_count": 17,
     "metadata": {},
     "output_type": "execute_result"
    }
   ],
   "source": [
    "#py.iplot([{\n",
    "#    'x': plotter_df2.index,\n",
    "#    'y': plotter_df2[col],\n",
    "#    'name': col\n",
    "#}  for col in plotter_df2.columns], filename='cufflinks/simple-line')\n",
    "plotter_df.iplot(fill=True, filename='cuflinks/filled-area')\n",
    "#iplot(kind='area', fill=True, filename='cuflinks/stacked-area')\n",
    "#(kind='histogram', filename='cufflinks/basic-histogram')\n",
    "#(kind='bar', filename='cufflinks/bar-chart-row')\n",
    "#(kind='scatter', filename='cufflinks/cf-simple-line')\n"
   ]
  },
  {
   "cell_type": "code",
   "execution_count": null,
   "metadata": {
    "collapsed": false
   },
   "outputs": [],
   "source": [
    "#%matplotlib inline\n",
    "germany = rafo3r[rafo3r['Word'] == 'germany']\n",
    "#c,bins = np.histogram(germany)\n",
    "#germany.hist(bins=bins)\n",
    "\n",
    "\n",
    "\n",
    "df.iplot(kind='scatter', filename='cufflinks/cf-simple-line')\n",
    "data = [go.Scatter(x= germany.index,y=germany['Running Count'],name='Germany')]\n",
    "#data2 = [go.Histogram(x= c,#germany['Running Occurance'],\n",
    "#                      name='Germany')]\n",
    "layout = go.Layout(title='scatter plot with pandas',\n",
    "                   yaxis=dict(title='random distribution'), \n",
    "                   xaxis=dict(title='linspace'))\n",
    "py.iplot(data, filename='pandas/basic-line-plot')#'basic-histogram'"
   ]
  },
  {
   "cell_type": "code",
   "execution_count": 113,
   "metadata": {
    "collapsed": false
   },
   "outputs": [
    {
     "data": {
      "text/html": [
       "<iframe id=\"igraph\" scrolling=\"no\" style=\"border:none;\" seamless=\"seamless\" src=\"https://plot.ly/~yg2bsm/9.embed\" height=\"525px\" width=\"100%\"></iframe>"
      ],
      "text/plain": [
       "<plotly.tools.PlotlyDisplay object>"
      ]
     },
     "execution_count": 113,
     "metadata": {},
     "output_type": "execute_result"
    }
   ],
   "source": [
    "data = [go.Scatter(x= plotter_df.index,y=plotter_df['Count'],name='All')]\n",
    "#data2 = [go.Histogram(x= c,#germany['Running Occurance'],\n",
    "#                      name='Germany')]\n",
    "layout = go.Layout(title='scatter plot with pandas',\n",
    "                   yaxis=dict(title='random distribution'), \n",
    "                   xaxis=dict(title='linspace'))\n",
    "py.iplot(data, filename='pandas/basic-line-plot')#'basic-histogram'"
   ]
  },
  {
   "cell_type": "code",
   "execution_count": null,
   "metadata": {
    "collapsed": false
   },
   "outputs": [],
   "source": [
    "grouped = rafo3r.groupby('Word')\n",
    "#grouped.describe()\n",
    "#display(rafo3r.head())"
   ]
  },
  {
   "cell_type": "code",
   "execution_count": null,
   "metadata": {
    "collapsed": false
   },
   "outputs": [],
   "source": [
    "rafo3r['Count'].sort_values()[-10:] # top 10 values"
   ]
  },
  {
   "cell_type": "code",
   "execution_count": null,
   "metadata": {
    "collapsed": false
   },
   "outputs": [],
   "source": [
    "rafo3r['Position'] = rafo3r.index\n",
    "\n",
    "occurances = rafo3r.groupby('Word').size()\n",
    "mega_words = occurances.index[occurances >= 1000]\n",
    "rafo3r.index = rafo3r['Word']\n",
    "#sw = rafo3r.ix['Stop Word']\n",
    "#sw.head()"
   ]
  },
  {
   "cell_type": "code",
   "execution_count": null,
   "metadata": {
    "collapsed": false
   },
   "outputs": [],
   "source": [
    "def start_loc(x):\n",
    "    return int(100 * min(x) / len(rafo3r))\n",
    "def end_loc(x):\n",
    "    return int(100 * max(x) / len(rafo3r))\n",
    "rafo3r_pt = rafo3r[rafo3r['Stop Word'] == False].pivot_table(values='Position', \n",
    "            aggfunc=[len,start_loc,end_loc], index='Words')\n",
    "rafo3r_pt.sort_values('len',ascending=False,inplace=True)\n",
    "rafo3r_pt.rename(columns={'len': 'Count'}, inplace=True)\n",
    "display(rafo3r_pt[:10])\n",
    "\n",
    "rafo3r_pt2 = rafo3r[rafo3r['Stop Word'] == False].pivot_table(values='Position', \n",
    "             aggfunc=[len], index=['Word','Book','Chapter'])\n",
    "rafo3r_pt2.sort_values('len',ascending=False,inplace=True)\n",
    "\n",
    "display(rafo3r_pt2[:10])"
   ]
  }
 ],
 "metadata": {
  "kernelspec": {
   "display_name": "Python 3",
   "language": "python",
   "name": "python3"
  },
  "language_info": {
   "codemirror_mode": {
    "name": "ipython",
    "version": 3
   },
   "file_extension": ".py",
   "mimetype": "text/x-python",
   "name": "python",
   "nbconvert_exporter": "python",
   "pygments_lexer": "ipython3",
   "version": "3.5.1"
  }
 },
 "nbformat": 4,
 "nbformat_minor": 0
}
