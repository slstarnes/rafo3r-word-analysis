{
 "cells": [
  {
   "cell_type": "markdown",
   "metadata": {},
   "source": [
    "# The Rise and Fall of the Third Reich\n",
    "# A History of Nazi Germany \n",
    "# by William L. Shirer\n",
    "## A Textual Analysis"
   ]
  },
  {
   "cell_type": "markdown",
   "metadata": {},
   "source": [
    "Read in file."
   ]
  },
  {
   "cell_type": "code",
   "execution_count": 303,
   "metadata": {
    "collapsed": false
   },
   "outputs": [
    {
     "name": "stdout",
     "output_type": "stream",
     "text": [
      "Starting\n",
      "Book processed\n",
      "TOC processed\n",
      "Chapter Markers made\n",
      "Pivots processed\n"
     ]
    }
   ],
   "source": [
    "import pandas as pd\n",
    "import book_reader as br\n",
    "import book_viz as bv\n",
    "import numpy as np\n",
    "import json\n",
    "import os\n",
    "from IPython.display import display\n",
    "rafo3r_text = open('rafo3r.txt', 'r', encoding='utf-8').read()\n",
    "generate_book_df = False\n",
    "generate_toc_df = False\n",
    "generate_pivots = False\n",
    "rafo3r_reader = br.book_reader('rafo3r', generate_book_df, generate_toc_df, generate_pivots)\n",
    "book_file = 'rafo3r.txt'\n",
    "h5_file = 'rafo3r.h5'\n",
    "rafo3r, toc, book_pivot1, book_pivot2 = rafo3r_reader.main(book_file, h5_file)"
   ]
  },
  {
   "cell_type": "code",
   "execution_count": 411,
   "metadata": {
    "collapsed": true
   },
   "outputs": [],
   "source": [
    "import plotly.plotly as py\n",
    "import plotly.graph_objs as go\n",
    "from plotly.tools import FigureFactory as FF\n",
    "py.sign_in('yg2bsm', '8e3m3cer5e')"
   ]
  },
  {
   "cell_type": "code",
   "execution_count": null,
   "metadata": {
    "collapsed": false
   },
   "outputs": [],
   "source": [
    "rafo3r_sliced = pd.DataFrame()\n",
    "for word in set(list(rafo3r[rafo3r['Stop Word'] == False]['Word'])): #iterate over unique words\n",
    "    for i, v in enumerate(broken_list):   \n",
    "    #if i % break_point == 0 or x == len(rafo3r):\n",
    "        if i == 0:\n",
    "            v0 = 0\n",
    "        else:\n",
    "            v0 = broken_list[i-1]\n",
    "        rafo3r_sliced.loc[str(i),word] = rafo3r[rafo3r['Word'] == word][v0:v]['Running Count'].sum\n",
    "display (rafo3r_sliced.head())"
   ]
  },
  {
   "cell_type": "code",
   "execution_count": 156,
   "metadata": {
    "collapsed": false
   },
   "outputs": [],
   "source": [
    "print(rafo3r[rafo3r['Word'] == 'germany'][1016 <= rafo3r['Position']][1016 <= rafo3r['Position']])\n",
    "#print([1000:1200]['Running Count'].max())"
   ]
  },
  {
   "cell_type": "code",
   "execution_count": 177,
   "metadata": {
    "collapsed": false
   },
   "outputs": [],
   "source": [
    "def _count_within_range(word, v0, v):\n",
    "    if len(rafo3r[rafo3r['Word'] == word][v0 < rafo3r['Position']][v >= rafo3r['Position']]['Running Count']) == 0:\n",
    "        return 0\n",
    "    return rafo3r[rafo3r['Word'] == word][v0 < rafo3r['Position']][v >= rafo3r['Position']]['Running Count'].max() - rafo3r[rafo3r['Word'] == word][v0 < rafo3r['Position']][v >= rafo3r['Position']]['Running Count'].min()"
   ]
  },
  {
   "cell_type": "code",
   "execution_count": 363,
   "metadata": {
    "collapsed": false
   },
   "outputs": [],
   "source": [
    "def word_vs_range_df_maker(book_df, word_json, break_point = 10000, min_count_req = 400):\n",
    "    peak = len(book_df)\n",
    "    broken_list = list(range(0,peak,break_point))\n",
    "    broken_list.pop(0)#remove 0\n",
    "    if broken_list[-1] != peak: broken_list.append(peak)\n",
    "    plotter_df = pd.DataFrame()\n",
    "    for word_main in word_json:\n",
    "        these_words = word_json[word_main]\n",
    "        for i, v in enumerate(broken_list):\n",
    "            if i == 0:\n",
    "                v0 = 0\n",
    "            else:\n",
    "                v0 = broken_list[i-1]\n",
    "            plotter_df.loc[str(v),word_main] = _count_within_range(word_main,v0,v)\n",
    "            for word_sub in these_words:\n",
    "                plotter_df.loc[str(v),word_main] += _count_within_range(word_sub,v0,v)\n",
    "    plotter_df = plotter_df.drop(plotter_df.sum(axis=0)\n",
    "                                 [plotter_df.sum(axis=0)<min_count_req].index,axis=1)\n",
    "    return plotter_df\n",
    "#places_json = json.loads('{\"germany\":[\"german\"],\"austria\":[]}')\n",
    "#tester00 = word_vs_range_df_maker(rafo3r, places_json, 10000, 1)\n",
    "#tester01 = word_vs_range_df_maker(rafo3r, people_json, 10000, 1)"
   ]
  },
  {
   "cell_type": "code",
   "execution_count": 352,
   "metadata": {
    "collapsed": false
   },
   "outputs": [],
   "source": [
    "places = open(os.getcwd() + os.sep + 'places.json', 'r').read()\n",
    "places_json = json.loads(places)\n",
    "people = open(os.getcwd() + os.sep + 'people.json', 'r').read()\n",
    "people_json = json.loads(people)"
   ]
  },
  {
   "cell_type": "code",
   "execution_count": 3,
   "metadata": {
    "collapsed": false
   },
   "outputs": [
    {
     "name": "stdout",
     "output_type": "stream",
     "text": [
      "VIZ\n"
     ]
    }
   ],
   "source": [
    "rafo3r_viz = bv.book_viz(rafo3r, toc, p1, p2, places_json, people_json)\n",
    "rafo3r_viz.places_vs_chapters()"
   ]
  },
  {
   "cell_type": "code",
   "execution_count": 307,
   "metadata": {
    "collapsed": false,
    "scrolled": true
   },
   "outputs": [],
   "source": [
    "#using pivot2, create a new dataframe with words (subset based on places from json) as columns and chapter (counts)\n",
    "#as rows.\n",
    "def word_vs_chapter_df_maker(book_pivot2, word_json, ch_list, min_count_req = 400):\n",
    "    bp2 = book_pivot2.copy()  #to my suprise, without this i was modifying the actual df (didnt think would happen in func)\n",
    "    \n",
    "    #######                      \n",
    "    #remove this once you fix bug in pivot maker\n",
    "    #print('P1',bp2.head())\n",
    "    bp2.index = bp2.index.droplevel(1)\n",
    "    bp2 = bp2[~bp2.index.duplicated(keep='first')]\n",
    "    #print('P2',bp2.head())\n",
    "    #######                      \n",
    "    \n",
    "    plotter_df = pd.DataFrame()\n",
    "    for word_main in word_json:\n",
    "        other_words = word_json[word_main]\n",
    "        s = 'Word == \"%s\"'%(word_main)\n",
    "        master_df = bp2.query(s).reset_index().set_index('Chapter')\n",
    "        master_df = master_df.reindex(ch_list).fillna(0)\n",
    "        master_df['Word'] = word_main\n",
    "        master_df.sort_index(inplace=True)\n",
    "        try:\n",
    "            del master_df['Book']\n",
    "        except:\n",
    "            #remove this try once you fix the issue that lets you remove the stuff at start.\n",
    "            #issue is that you remove book up there so you cant delete it here.\n",
    "            pass\n",
    "        for word_sub in other_words:\n",
    "            s = 'Word == \"%s\"'%(word_sub)\n",
    "            minor_df = bp2.query(s).reset_index().set_index('Chapter')\n",
    "            minor_df = minor_df.reindex(ch_list).fillna(0)\n",
    "            minor_df.sort_index(inplace=True)\n",
    "            try:\n",
    "                del minor_df['Book']\n",
    "            except:\n",
    "                #remove this try once you fix the issue that lets you remove the stuff at start.\n",
    "                #issue is that you remove book up there so you cant delete it here.\n",
    "                pass\n",
    "            master_df['Count'] = master_df['Count'] + minor_df['Count']\n",
    "        plotter_df = pd.concat([plotter_df,master_df])\n",
    "    plotter_df = plotter_df.reset_index()\n",
    "    plotter_df.set_index(['Chapter', 'Word'], inplace=True)\n",
    "    plotter_df = plotter_df.unstack(level=1) \n",
    "    plotter_df = plotter_df.drop(plotter_df.sum(axis=0)\n",
    "                                 [plotter_df.sum(axis=0)<min_count_req].index,axis=1)\n",
    "    plotter_df.columns = plotter_df.columns.droplevel(0)\n",
    "    return plotter_df"
   ]
  },
  {
   "cell_type": "code",
   "execution_count": 311,
   "metadata": {
    "collapsed": false
   },
   "outputs": [],
   "source": [
    "num_chapters = max(book_pivot2.reset_index()['Chapter'])\n",
    "ch_list = list(range(1,num_chapters+1))"
   ]
  },
  {
   "cell_type": "code",
   "execution_count": 362,
   "metadata": {
    "collapsed": false
   },
   "outputs": [
    {
     "name": "stderr",
     "output_type": "stream",
     "text": [
      "/Users/lukestarnes/anaconda/envs/Py3.5/lib/python3.5/site-packages/ipykernel/__main__.py:2: UserWarning:\n",
      "\n",
      "Boolean Series key will be reindexed to match DataFrame index.\n",
      "\n",
      "/Users/lukestarnes/anaconda/envs/Py3.5/lib/python3.5/site-packages/ipykernel/__main__.py:4: UserWarning:\n",
      "\n",
      "Boolean Series key will be reindexed to match DataFrame index.\n",
      "\n"
     ]
    }
   ],
   "source": [
    "places_vs_chapter_df = word_vs_chapter_df_maker(book_pivot2, places_json, ch_list, 400)\n",
    "people_vs_chapter_df = word_vs_chapter_df_maker(book_pivot2, people_json, ch_list, 100)\n",
    "places_vs_range_df = word_vs_range_df_maker(rafo3r, places_json, 10000, 300)\n",
    "people_vs_range_df = word_vs_range_df_maker(rafo3r, people_json, 10000, 100)"
   ]
  },
  {
   "cell_type": "code",
   "execution_count": 414,
   "metadata": {
    "collapsed": false
   },
   "outputs": [
    {
     "name": "stdout",
     "output_type": "stream",
     "text": [
      "Word\n",
      "poland     1047.0\n",
      "france     1193.0\n",
      "russia     2027.0\n",
      "britain    2304.0\n",
      "germany    6823.0\n",
      "dtype: float64\n",
      "Word\n",
      "chamberlain     333.0\n",
      "ribbentrop      462.0\n",
      "goering         486.0\n",
      "mussolini       525.0\n",
      "hitler         5294.0\n",
      "dtype: float64\n",
      "poland      957.0\n",
      "france     1052.0\n",
      "russia     1822.0\n",
      "britain    2093.0\n",
      "germany    6493.0\n",
      "dtype: float64\n",
      "chamberlain     304.0\n",
      "ribbentrop      423.0\n",
      "goering         432.0\n",
      "mussolini       453.0\n",
      "hitler         5183.0\n",
      "dtype: float64\n"
     ]
    }
   ],
   "source": [
    "print(places_vs_chapter_df.sum(axis=0).sort_values()[-5:])\n",
    "print(people_vs_chapter_df.sum(axis=0).sort_values()[-5:])\n",
    "print(places_vs_range_df.sum(axis=0).sort_values()[-5:])\n",
    "print(people_vs_range_df.sum(axis=0).sort_values()[-5:])\n",
    "#why are counts not the same between chapter split and 10k split?"
   ]
  },
  {
   "cell_type": "code",
   "execution_count": 437,
   "metadata": {
    "collapsed": false
   },
   "outputs": [],
   "source": [
    "def _col_clean(name):\n",
    "    return name.replace('_',' ').title()"
   ]
  },
  {
   "cell_type": "code",
   "execution_count": 438,
   "metadata": {
    "collapsed": false,
    "scrolled": true
   },
   "outputs": [
    {
     "data": {
      "text/html": [
       "<iframe id=\"igraph\" scrolling=\"no\" style=\"border:none;\" seamless=\"seamless\" src=\"https://plot.ly/~yg2bsm/30.embed\" height=\"525px\" width=\"100%\"></iframe>"
      ],
      "text/plain": [
       "<plotly.tools.PlotlyDisplay object>"
      ]
     },
     "execution_count": 438,
     "metadata": {},
     "output_type": "execute_result"
    }
   ],
   "source": [
    "c = 256 / len(places_vs_chapter_df.columns)\n",
    "new_col_names = list(map(_col_clean, list(places_vs_chapter_df.columns)))\n",
    "\n",
    "py.iplot(dict(data=[{\n",
    "    'x': places_vs_chapter_df.index,\n",
    "    'y': places_vs_chapter_df[col],\n",
    "    'name': new_col_names[i],\n",
    "    'fill' : 'tonexty',\n",
    "    'line' : dict(color = ('rgb(%i, %i, 100)'%(int(c * i),int(255 - c * i)))),\n",
    "}  for i, col in enumerate(places_vs_chapter_df.columns)], layout=dict(\n",
    "            title = 'RaFo3R Places vs Chapter',\n",
    "            dragmode = 'zoom',\n",
    "            xaxis = dict(title = 'Chapter', tickvals = list(range(2,36,2)), tickmode = 'array', \n",
    "                         rangeslider = dict(thickness=0.2)),\n",
    "            yaxis = dict(title = 'Word Count'))), filename='plotly/places_vs_chapter')"
   ]
  },
  {
   "cell_type": "code",
   "execution_count": 439,
   "metadata": {
    "collapsed": false
   },
   "outputs": [
    {
     "data": {
      "text/html": [
       "<iframe id=\"igraph\" scrolling=\"no\" style=\"border:none;\" seamless=\"seamless\" src=\"https://plot.ly/~yg2bsm/36.embed\" height=\"525px\" width=\"100%\"></iframe>"
      ],
      "text/plain": [
       "<plotly.tools.PlotlyDisplay object>"
      ]
     },
     "execution_count": 439,
     "metadata": {},
     "output_type": "execute_result"
    }
   ],
   "source": [
    "c = 256 / len(people_vs_chapter_df.columns)\n",
    "new_col_names = list(map(_col_clean, list(people_vs_chapter_df.columns)))\n",
    "\n",
    "py.iplot(dict(data=[{\n",
    "    'x': people_vs_chapter_df.index,\n",
    "    'y': people_vs_chapter_df[col],\n",
    "    'name': new_col_names[i],\n",
    "    'fill' : 'tonexty',\n",
    "    'line' : dict(color = ('rgb(%i, %i, 100)'%(int(c * i),int(255 - c * i)))),\n",
    "}  for i, col in enumerate(people_vs_chapter_df.columns)], layout=dict(\n",
    "            title = 'RaFo3R People vs Chapter',\n",
    "            dragmode = 'zoom',\n",
    "            xaxis = dict(title = 'Chapter', tickvals = list(range(2,36,2)), tickmode = 'array', \n",
    "                         rangeslider = dict(thickness=0.2)),\n",
    "            yaxis = dict(title = 'Word Count'))), filename='plotly/people_vs_chapter')"
   ]
  },
  {
   "cell_type": "code",
   "execution_count": 461,
   "metadata": {
    "collapsed": false
   },
   "outputs": [
    {
     "name": "stdout",
     "output_type": "stream",
     "text": [
      "['0', '10000', '20000', '30000', '40000', '50000', '60000', '70000', '80000', '90000', '100000', '110000', '120000', '130000', '140000', '150000', '160000', '170000', '180000', '190000', '200000', '210000', '220000', '230000', '240000', '250000', '260000', '270000', '280000', '290000', '300000', '310000', '320000', '330000', '340000', '350000', '360000', '370000', '380000', '390000', '400000', '410000', '420000', '430000', '440000', '450000', '460000', '470000', '480000', '490000', '500000', '510000', '520000', '530000', '540000', '550000', '560000', '570000', '573509']\n"
     ]
    }
   ],
   "source": [
    "x=list(places_vs_range_df.index)\n",
    "x.insert(0,'0')\n",
    "print (x)"
   ]
  },
  {
   "cell_type": "code",
   "execution_count": 462,
   "metadata": {
    "collapsed": false
   },
   "outputs": [
    {
     "ename": "SyntaxError",
     "evalue": "invalid syntax (<ipython-input-462-08be60166b04>, line 7)",
     "output_type": "error",
     "traceback": [
      "\u001b[0;36m  File \u001b[0;32m\"<ipython-input-462-08be60166b04>\"\u001b[0;36m, line \u001b[0;32m7\u001b[0m\n\u001b[0;31m    'y': places_vs_range_df[col],\u001b[0m\n\u001b[0m      ^\u001b[0m\n\u001b[0;31mSyntaxError\u001b[0m\u001b[0;31m:\u001b[0m invalid syntax\n"
     ]
    }
   ],
   "source": [
    "c = 256 / len(places_vs_range_df.columns)\n",
    "new_col_names = list(map(_col_clean, list(places_vs_range_df.columns)))\n",
    "x.insert(0,'0')\n",
    "\n",
    "py.iplot(dict(data=[{\n",
    "    'x': list(places_vs_range_df.index).insert(0,'0')\n",
    "    'y': places_vs_range_df[col],\n",
    "    'name': new_col_names[i],\n",
    "    'fill' : 'tonexty',\n",
    "    'line' : dict(color = ('rgb(%i, %i, 100)'%(int(c * i),int(255 - c * i)))),\n",
    "}  for i, col in enumerate(places_vs_range_df.columns)], layout=dict(\n",
    "            title = 'RaFo3R Places vs 10k Words',\n",
    "            #dragmode = 'zoom',\n",
    "            xaxis = dict(title = 'Per 10k Words', rangeslider = dict(thickness=0.20)),\n",
    "            yaxis = dict(title = 'Word Count'))), filename='plotly/places_vs_range')"
   ]
  },
  {
   "cell_type": "code",
   "execution_count": 445,
   "metadata": {
    "collapsed": false
   },
   "outputs": [
    {
     "data": {
      "text/html": [
       "<iframe id=\"igraph\" scrolling=\"no\" style=\"border:none;\" seamless=\"seamless\" src=\"https://plot.ly/~yg2bsm/34.embed\" height=\"525px\" width=\"100%\"></iframe>"
      ],
      "text/plain": [
       "<plotly.tools.PlotlyDisplay object>"
      ]
     },
     "execution_count": 445,
     "metadata": {},
     "output_type": "execute_result"
    }
   ],
   "source": [
    "c = 256 / len(people_vs_range_df.columns)\n",
    "new_col_names = list(map(_col_clean, list(people_vs_range_df.columns)))\n",
    "\n",
    "py.iplot(dict(data=[{\n",
    "    'x': people_vs_range_df.index,\n",
    "    'y': people_vs_range_df[col],\n",
    "    'name': new_col_names[i],\n",
    "    'fill' : 'tonexty',\n",
    "    'line' : dict(color = ('rgb(%i, %i, 100)'%(int(c * i),int(255 - c * i)))),\n",
    "}  for i, col in enumerate(people_vs_range_df.columns)], layout=dict(\n",
    "            title = 'RaFo3R People vs 10k Words',\n",
    "            #dragmode = 'zoom',\n",
    "            xaxis = dict(title = 'Per 10k Words', rangeslider = dict(thickness=0.20)),\n",
    "            yaxis = dict(title = 'Word Count'))), filename='plotly/people_vs_range')"
   ]
  },
  {
   "cell_type": "code",
   "execution_count": null,
   "metadata": {
    "collapsed": true
   },
   "outputs": [],
   "source": [
    "#table - top 5 people by chapter"
   ]
  },
  {
   "cell_type": "code",
   "execution_count": 413,
   "metadata": {
    "collapsed": false
   },
   "outputs": [
    {
     "data": {
      "text/html": [
       "<iframe id=\"igraph\" scrolling=\"no\" style=\"border:none;\" seamless=\"seamless\" src=\"https://plot.ly/~yg2bsm/38.embed\" height=\"1040px\" width=\"100%\"></iframe>"
      ],
      "text/plain": [
       "<plotly.tools.PlotlyDisplay object>"
      ]
     },
     "execution_count": 413,
     "metadata": {},
     "output_type": "execute_result"
    }
   ],
   "source": [
    "#display(people_vs_chapter_df.head())\n",
    "new = []\n",
    "\n",
    "for i in range(1,33):\n",
    "    new.append(list(people_vs_chapter_df.loc[i].sort_values(ascending=False)[:7].index))\n",
    "my_df=pd.DataFrame(new,index=list(range(1,33)),columns=list(range(1,8)))\n",
    "table = FF.create_table(my_df,index=True)\n",
    "py.iplot(table, filename='pandas_table')"
   ]
  },
  {
   "cell_type": "code",
   "execution_count": null,
   "metadata": {
    "collapsed": false
   },
   "outputs": [],
   "source": [
    "#%matplotlib inline\n",
    "germany = rafo3r[rafo3r['Word'] == 'germany']\n",
    "#c,bins = np.histogram(germany)\n",
    "#germany.hist(bins=bins)\n",
    "\n",
    "\n",
    "\n",
    "df.iplot(kind='scatter', filename='cufflinks/cf-simple-line')\n",
    "data = [go.Scatter(x= germany.index,y=germany['Running Count'],name='Germany')]\n",
    "#data2 = [go.Histogram(x= c,#germany['Running Occurance'],\n",
    "#                      name='Germany')]\n",
    "layout = go.Layout(title='scatter plot with pandas',\n",
    "                   yaxis=dict(title='random distribution'), \n",
    "                   xaxis=dict(title='linspace'))\n",
    "py.iplot(data, filename='pandas/basic-line-plot')#'basic-histogram'"
   ]
  },
  {
   "cell_type": "code",
   "execution_count": 90,
   "metadata": {
    "collapsed": false
   },
   "outputs": [],
   "source": [
    "#data = [go.Scatter(x= plotter_df.index,y=plotter_df['Count'],name='All')]\n",
    "#data2 = [go.Histogram(x= c,#germany['Running Occurance'],\n",
    "#                      name='Germany')]\n",
    "layout = go.Layout(title='scatter plot with pandas',\n",
    "                   yaxis=dict(title='random distribution'), \n",
    "                   xaxis=dict(title='linspace'))\n",
    "#py.iplot(data, filename='pandas/basic-line-plot')#'basic-histogram'"
   ]
  },
  {
   "cell_type": "code",
   "execution_count": 312,
   "metadata": {
    "collapsed": false
   },
   "outputs": [
    {
     "data": {
      "text/html": [
       "<div>\n",
       "<table border=\"1\" class=\"dataframe\">\n",
       "  <thead>\n",
       "    <tr style=\"text-align: right;\">\n",
       "      <th></th>\n",
       "      <th></th>\n",
       "      <th>Count</th>\n",
       "      <th>Position</th>\n",
       "      <th>Running Count</th>\n",
       "    </tr>\n",
       "    <tr>\n",
       "      <th>Word</th>\n",
       "      <th></th>\n",
       "      <th></th>\n",
       "      <th></th>\n",
       "      <th></th>\n",
       "    </tr>\n",
       "  </thead>\n",
       "  <tbody>\n",
       "    <tr>\n",
       "      <th rowspan=\"8\" valign=\"top\"></th>\n",
       "      <th>count</th>\n",
       "      <td>52.0</td>\n",
       "      <td>52.000000</td>\n",
       "      <td>52.000000</td>\n",
       "    </tr>\n",
       "    <tr>\n",
       "      <th>mean</th>\n",
       "      <td>0.0</td>\n",
       "      <td>188255.538462</td>\n",
       "      <td>0.000000</td>\n",
       "    </tr>\n",
       "    <tr>\n",
       "      <th>std</th>\n",
       "      <td>0.0</td>\n",
       "      <td>142844.055449</td>\n",
       "      <td>0.000000</td>\n",
       "    </tr>\n",
       "    <tr>\n",
       "      <th>min</th>\n",
       "      <td>0.0</td>\n",
       "      <td>263.000000</td>\n",
       "      <td>0.000000</td>\n",
       "    </tr>\n",
       "    <tr>\n",
       "      <th>25%</th>\n",
       "      <td>0.0</td>\n",
       "      <td>67038.500000</td>\n",
       "      <td>0.000000</td>\n",
       "    </tr>\n",
       "    <tr>\n",
       "      <th>50%</th>\n",
       "      <td>0.0</td>\n",
       "      <td>170194.000000</td>\n",
       "      <td>0.000000</td>\n",
       "    </tr>\n",
       "    <tr>\n",
       "      <th>75%</th>\n",
       "      <td>0.0</td>\n",
       "      <td>284169.500000</td>\n",
       "      <td>0.000000</td>\n",
       "    </tr>\n",
       "    <tr>\n",
       "      <th>max</th>\n",
       "      <td>0.0</td>\n",
       "      <td>494003.000000</td>\n",
       "      <td>0.000000</td>\n",
       "    </tr>\n",
       "    <tr>\n",
       "      <th rowspan=\"8\" valign=\"top\">$1</th>\n",
       "      <th>count</th>\n",
       "      <td>3.0</td>\n",
       "      <td>3.000000</td>\n",
       "      <td>3.000000</td>\n",
       "    </tr>\n",
       "    <tr>\n",
       "      <th>mean</th>\n",
       "      <td>0.0</td>\n",
       "      <td>277315.333333</td>\n",
       "      <td>0.000000</td>\n",
       "    </tr>\n",
       "    <tr>\n",
       "      <th>std</th>\n",
       "      <td>0.0</td>\n",
       "      <td>174176.980251</td>\n",
       "      <td>0.000000</td>\n",
       "    </tr>\n",
       "    <tr>\n",
       "      <th>min</th>\n",
       "      <td>0.0</td>\n",
       "      <td>138672.000000</td>\n",
       "      <td>0.000000</td>\n",
       "    </tr>\n",
       "    <tr>\n",
       "      <th>25%</th>\n",
       "      <td>0.0</td>\n",
       "      <td>179565.000000</td>\n",
       "      <td>0.000000</td>\n",
       "    </tr>\n",
       "    <tr>\n",
       "      <th>50%</th>\n",
       "      <td>0.0</td>\n",
       "      <td>220458.000000</td>\n",
       "      <td>0.000000</td>\n",
       "    </tr>\n",
       "    <tr>\n",
       "      <th>75%</th>\n",
       "      <td>0.0</td>\n",
       "      <td>346637.000000</td>\n",
       "      <td>0.000000</td>\n",
       "    </tr>\n",
       "    <tr>\n",
       "      <th>max</th>\n",
       "      <td>0.0</td>\n",
       "      <td>472816.000000</td>\n",
       "      <td>0.000000</td>\n",
       "    </tr>\n",
       "    <tr>\n",
       "      <th rowspan=\"8\" valign=\"top\">$10</th>\n",
       "      <th>count</th>\n",
       "      <td>1.0</td>\n",
       "      <td>1.000000</td>\n",
       "      <td>1.000000</td>\n",
       "    </tr>\n",
       "    <tr>\n",
       "      <th>mean</th>\n",
       "      <td>0.0</td>\n",
       "      <td>475960.000000</td>\n",
       "      <td>0.000000</td>\n",
       "    </tr>\n",
       "    <tr>\n",
       "      <th>std</th>\n",
       "      <td>NaN</td>\n",
       "      <td>NaN</td>\n",
       "      <td>NaN</td>\n",
       "    </tr>\n",
       "    <tr>\n",
       "      <th>min</th>\n",
       "      <td>0.0</td>\n",
       "      <td>475960.000000</td>\n",
       "      <td>0.000000</td>\n",
       "    </tr>\n",
       "    <tr>\n",
       "      <th>25%</th>\n",
       "      <td>0.0</td>\n",
       "      <td>475960.000000</td>\n",
       "      <td>0.000000</td>\n",
       "    </tr>\n",
       "    <tr>\n",
       "      <th>50%</th>\n",
       "      <td>0.0</td>\n",
       "      <td>475960.000000</td>\n",
       "      <td>0.000000</td>\n",
       "    </tr>\n",
       "    <tr>\n",
       "      <th>75%</th>\n",
       "      <td>0.0</td>\n",
       "      <td>475960.000000</td>\n",
       "      <td>0.000000</td>\n",
       "    </tr>\n",
       "    <tr>\n",
       "      <th>max</th>\n",
       "      <td>0.0</td>\n",
       "      <td>475960.000000</td>\n",
       "      <td>0.000000</td>\n",
       "    </tr>\n",
       "    <tr>\n",
       "      <th rowspan=\"6\" valign=\"top\">$100</th>\n",
       "      <th>count</th>\n",
       "      <td>1.0</td>\n",
       "      <td>1.000000</td>\n",
       "      <td>1.000000</td>\n",
       "    </tr>\n",
       "    <tr>\n",
       "      <th>mean</th>\n",
       "      <td>0.0</td>\n",
       "      <td>507017.000000</td>\n",
       "      <td>0.000000</td>\n",
       "    </tr>\n",
       "    <tr>\n",
       "      <th>std</th>\n",
       "      <td>NaN</td>\n",
       "      <td>NaN</td>\n",
       "      <td>NaN</td>\n",
       "    </tr>\n",
       "    <tr>\n",
       "      <th>min</th>\n",
       "      <td>0.0</td>\n",
       "      <td>507017.000000</td>\n",
       "      <td>0.000000</td>\n",
       "    </tr>\n",
       "    <tr>\n",
       "      <th>25%</th>\n",
       "      <td>0.0</td>\n",
       "      <td>507017.000000</td>\n",
       "      <td>0.000000</td>\n",
       "    </tr>\n",
       "    <tr>\n",
       "      <th>50%</th>\n",
       "      <td>0.0</td>\n",
       "      <td>507017.000000</td>\n",
       "      <td>0.000000</td>\n",
       "    </tr>\n",
       "    <tr>\n",
       "      <th>...</th>\n",
       "      <th>...</th>\n",
       "      <td>...</td>\n",
       "      <td>...</td>\n",
       "      <td>...</td>\n",
       "    </tr>\n",
       "    <tr>\n",
       "      <th rowspan=\"6\" valign=\"top\">‡ohlendorf</th>\n",
       "      <th>std</th>\n",
       "      <td>NaN</td>\n",
       "      <td>NaN</td>\n",
       "      <td>NaN</td>\n",
       "    </tr>\n",
       "    <tr>\n",
       "      <th>min</th>\n",
       "      <td>1.0</td>\n",
       "      <td>480630.000000</td>\n",
       "      <td>1.000000</td>\n",
       "    </tr>\n",
       "    <tr>\n",
       "      <th>25%</th>\n",
       "      <td>1.0</td>\n",
       "      <td>480630.000000</td>\n",
       "      <td>1.000000</td>\n",
       "    </tr>\n",
       "    <tr>\n",
       "      <th>50%</th>\n",
       "      <td>1.0</td>\n",
       "      <td>480630.000000</td>\n",
       "      <td>1.000000</td>\n",
       "    </tr>\n",
       "    <tr>\n",
       "      <th>75%</th>\n",
       "      <td>1.0</td>\n",
       "      <td>480630.000000</td>\n",
       "      <td>1.000000</td>\n",
       "    </tr>\n",
       "    <tr>\n",
       "      <th>max</th>\n",
       "      <td>1.0</td>\n",
       "      <td>480630.000000</td>\n",
       "      <td>1.000000</td>\n",
       "    </tr>\n",
       "    <tr>\n",
       "      <th rowspan=\"8\" valign=\"top\">‡see</th>\n",
       "      <th>count</th>\n",
       "      <td>1.0</td>\n",
       "      <td>1.000000</td>\n",
       "      <td>1.000000</td>\n",
       "    </tr>\n",
       "    <tr>\n",
       "      <th>mean</th>\n",
       "      <td>1.0</td>\n",
       "      <td>482917.000000</td>\n",
       "      <td>1.000000</td>\n",
       "    </tr>\n",
       "    <tr>\n",
       "      <th>std</th>\n",
       "      <td>NaN</td>\n",
       "      <td>NaN</td>\n",
       "      <td>NaN</td>\n",
       "    </tr>\n",
       "    <tr>\n",
       "      <th>min</th>\n",
       "      <td>1.0</td>\n",
       "      <td>482917.000000</td>\n",
       "      <td>1.000000</td>\n",
       "    </tr>\n",
       "    <tr>\n",
       "      <th>25%</th>\n",
       "      <td>1.0</td>\n",
       "      <td>482917.000000</td>\n",
       "      <td>1.000000</td>\n",
       "    </tr>\n",
       "    <tr>\n",
       "      <th>50%</th>\n",
       "      <td>1.0</td>\n",
       "      <td>482917.000000</td>\n",
       "      <td>1.000000</td>\n",
       "    </tr>\n",
       "    <tr>\n",
       "      <th>75%</th>\n",
       "      <td>1.0</td>\n",
       "      <td>482917.000000</td>\n",
       "      <td>1.000000</td>\n",
       "    </tr>\n",
       "    <tr>\n",
       "      <th>max</th>\n",
       "      <td>1.0</td>\n",
       "      <td>482917.000000</td>\n",
       "      <td>1.000000</td>\n",
       "    </tr>\n",
       "    <tr>\n",
       "      <th rowspan=\"8\" valign=\"top\">‡the</th>\n",
       "      <th>count</th>\n",
       "      <td>2.0</td>\n",
       "      <td>2.000000</td>\n",
       "      <td>2.000000</td>\n",
       "    </tr>\n",
       "    <tr>\n",
       "      <th>mean</th>\n",
       "      <td>2.0</td>\n",
       "      <td>370780.000000</td>\n",
       "      <td>1.500000</td>\n",
       "    </tr>\n",
       "    <tr>\n",
       "      <th>std</th>\n",
       "      <td>0.0</td>\n",
       "      <td>97446.385515</td>\n",
       "      <td>0.707107</td>\n",
       "    </tr>\n",
       "    <tr>\n",
       "      <th>min</th>\n",
       "      <td>2.0</td>\n",
       "      <td>301875.000000</td>\n",
       "      <td>1.000000</td>\n",
       "    </tr>\n",
       "    <tr>\n",
       "      <th>25%</th>\n",
       "      <td>2.0</td>\n",
       "      <td>336327.500000</td>\n",
       "      <td>1.250000</td>\n",
       "    </tr>\n",
       "    <tr>\n",
       "      <th>50%</th>\n",
       "      <td>2.0</td>\n",
       "      <td>370780.000000</td>\n",
       "      <td>1.500000</td>\n",
       "    </tr>\n",
       "    <tr>\n",
       "      <th>75%</th>\n",
       "      <td>2.0</td>\n",
       "      <td>405232.500000</td>\n",
       "      <td>1.750000</td>\n",
       "    </tr>\n",
       "    <tr>\n",
       "      <th>max</th>\n",
       "      <td>2.0</td>\n",
       "      <td>439685.000000</td>\n",
       "      <td>2.000000</td>\n",
       "    </tr>\n",
       "    <tr>\n",
       "      <th rowspan=\"8\" valign=\"top\">‡this</th>\n",
       "      <th>count</th>\n",
       "      <td>1.0</td>\n",
       "      <td>1.000000</td>\n",
       "      <td>1.000000</td>\n",
       "    </tr>\n",
       "    <tr>\n",
       "      <th>mean</th>\n",
       "      <td>1.0</td>\n",
       "      <td>222970.000000</td>\n",
       "      <td>1.000000</td>\n",
       "    </tr>\n",
       "    <tr>\n",
       "      <th>std</th>\n",
       "      <td>NaN</td>\n",
       "      <td>NaN</td>\n",
       "      <td>NaN</td>\n",
       "    </tr>\n",
       "    <tr>\n",
       "      <th>min</th>\n",
       "      <td>1.0</td>\n",
       "      <td>222970.000000</td>\n",
       "      <td>1.000000</td>\n",
       "    </tr>\n",
       "    <tr>\n",
       "      <th>25%</th>\n",
       "      <td>1.0</td>\n",
       "      <td>222970.000000</td>\n",
       "      <td>1.000000</td>\n",
       "    </tr>\n",
       "    <tr>\n",
       "      <th>50%</th>\n",
       "      <td>1.0</td>\n",
       "      <td>222970.000000</td>\n",
       "      <td>1.000000</td>\n",
       "    </tr>\n",
       "    <tr>\n",
       "      <th>75%</th>\n",
       "      <td>1.0</td>\n",
       "      <td>222970.000000</td>\n",
       "      <td>1.000000</td>\n",
       "    </tr>\n",
       "    <tr>\n",
       "      <th>max</th>\n",
       "      <td>1.0</td>\n",
       "      <td>222970.000000</td>\n",
       "      <td>1.000000</td>\n",
       "    </tr>\n",
       "  </tbody>\n",
       "</table>\n",
       "<p>180744 rows × 3 columns</p>\n",
       "</div>"
      ],
      "text/plain": [
       "                  Count       Position  Running Count\n",
       "Word                                                 \n",
       "           count   52.0      52.000000      52.000000\n",
       "           mean     0.0  188255.538462       0.000000\n",
       "           std      0.0  142844.055449       0.000000\n",
       "           min      0.0     263.000000       0.000000\n",
       "           25%      0.0   67038.500000       0.000000\n",
       "           50%      0.0  170194.000000       0.000000\n",
       "           75%      0.0  284169.500000       0.000000\n",
       "           max      0.0  494003.000000       0.000000\n",
       "$1         count    3.0       3.000000       3.000000\n",
       "           mean     0.0  277315.333333       0.000000\n",
       "           std      0.0  174176.980251       0.000000\n",
       "           min      0.0  138672.000000       0.000000\n",
       "           25%      0.0  179565.000000       0.000000\n",
       "           50%      0.0  220458.000000       0.000000\n",
       "           75%      0.0  346637.000000       0.000000\n",
       "           max      0.0  472816.000000       0.000000\n",
       "$10        count    1.0       1.000000       1.000000\n",
       "           mean     0.0  475960.000000       0.000000\n",
       "           std      NaN            NaN            NaN\n",
       "           min      0.0  475960.000000       0.000000\n",
       "           25%      0.0  475960.000000       0.000000\n",
       "           50%      0.0  475960.000000       0.000000\n",
       "           75%      0.0  475960.000000       0.000000\n",
       "           max      0.0  475960.000000       0.000000\n",
       "$100       count    1.0       1.000000       1.000000\n",
       "           mean     0.0  507017.000000       0.000000\n",
       "           std      NaN            NaN            NaN\n",
       "           min      0.0  507017.000000       0.000000\n",
       "           25%      0.0  507017.000000       0.000000\n",
       "           50%      0.0  507017.000000       0.000000\n",
       "...                 ...            ...            ...\n",
       "‡ohlendorf std      NaN            NaN            NaN\n",
       "           min      1.0  480630.000000       1.000000\n",
       "           25%      1.0  480630.000000       1.000000\n",
       "           50%      1.0  480630.000000       1.000000\n",
       "           75%      1.0  480630.000000       1.000000\n",
       "           max      1.0  480630.000000       1.000000\n",
       "‡see       count    1.0       1.000000       1.000000\n",
       "           mean     1.0  482917.000000       1.000000\n",
       "           std      NaN            NaN            NaN\n",
       "           min      1.0  482917.000000       1.000000\n",
       "           25%      1.0  482917.000000       1.000000\n",
       "           50%      1.0  482917.000000       1.000000\n",
       "           75%      1.0  482917.000000       1.000000\n",
       "           max      1.0  482917.000000       1.000000\n",
       "‡the       count    2.0       2.000000       2.000000\n",
       "           mean     2.0  370780.000000       1.500000\n",
       "           std      0.0   97446.385515       0.707107\n",
       "           min      2.0  301875.000000       1.000000\n",
       "           25%      2.0  336327.500000       1.250000\n",
       "           50%      2.0  370780.000000       1.500000\n",
       "           75%      2.0  405232.500000       1.750000\n",
       "           max      2.0  439685.000000       2.000000\n",
       "‡this      count    1.0       1.000000       1.000000\n",
       "           mean     1.0  222970.000000       1.000000\n",
       "           std      NaN            NaN            NaN\n",
       "           min      1.0  222970.000000       1.000000\n",
       "           25%      1.0  222970.000000       1.000000\n",
       "           50%      1.0  222970.000000       1.000000\n",
       "           75%      1.0  222970.000000       1.000000\n",
       "           max      1.0  222970.000000       1.000000\n",
       "\n",
       "[180744 rows x 3 columns]"
      ]
     },
     "execution_count": 312,
     "metadata": {},
     "output_type": "execute_result"
    }
   ],
   "source": [
    "grouped = rafo3r.groupby('Word')\n",
    "grouped.describe()\n",
    "#display(rafo3r.head())"
   ]
  },
  {
   "cell_type": "code",
   "execution_count": 313,
   "metadata": {
    "collapsed": false
   },
   "outputs": [
    {
     "data": {
      "text/plain": [
       "568477    4222\n",
       "136095    4222\n",
       "399802    4222\n",
       "502264    4222\n",
       "321664    4222\n",
       "103615    4222\n",
       "253602    4222\n",
       "11536     4222\n",
       "51862     4222\n",
       "27601     4222\n",
       "Name: Count, dtype: int64"
      ]
     },
     "execution_count": 313,
     "metadata": {},
     "output_type": "execute_result"
    }
   ],
   "source": [
    "rafo3r['Count'].sort_values()[-10:] # top 10 values"
   ]
  },
  {
   "cell_type": "code",
   "execution_count": null,
   "metadata": {
    "collapsed": false
   },
   "outputs": [],
   "source": [
    "rafo3r['Position'] = rafo3r.index\n",
    "\n",
    "occurances = rafo3r.groupby('Word').size()\n",
    "mega_words = occurances.index[occurances >= 1000]\n",
    "rafo3r.index = rafo3r['Word']\n",
    "#sw = rafo3r.ix['Stop Word']\n",
    "#sw.head()"
   ]
  },
  {
   "cell_type": "code",
   "execution_count": null,
   "metadata": {
    "collapsed": false
   },
   "outputs": [],
   "source": [
    "def start_loc(x):\n",
    "    return int(100 * min(x) / len(rafo3r))\n",
    "def end_loc(x):\n",
    "    return int(100 * max(x) / len(rafo3r))\n",
    "rafo3r_pt = rafo3r[rafo3r['Stop Word'] == False].pivot_table(values='Position', \n",
    "            aggfunc=[len,start_loc,end_loc], index='Words')\n",
    "rafo3r_pt.sort_values('len',ascending=False,inplace=True)\n",
    "rafo3r_pt.rename(columns={'len': 'Count'}, inplace=True)\n",
    "display(rafo3r_pt[:10])\n",
    "\n",
    "rafo3r_pt2 = rafo3r[rafo3r['Stop Word'] == False].pivot_table(values='Position', \n",
    "             aggfunc=[len], index=['Word','Book','Chapter'])\n",
    "rafo3r_pt2.sort_values('len',ascending=False,inplace=True)\n",
    "\n",
    "display(rafo3r_pt2[:10])"
   ]
  }
 ],
 "metadata": {
  "kernelspec": {
   "display_name": "Python 3",
   "language": "python",
   "name": "python3"
  },
  "language_info": {
   "codemirror_mode": {
    "name": "ipython",
    "version": 3
   },
   "file_extension": ".py",
   "mimetype": "text/x-python",
   "name": "python",
   "nbconvert_exporter": "python",
   "pygments_lexer": "ipython3",
   "version": "3.5.1"
  }
 },
 "nbformat": 4,
 "nbformat_minor": 0
}
